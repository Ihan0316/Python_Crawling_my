{
 "cells": [
  {
   "cell_type": "code",
   "id": "initial_id",
   "metadata": {
    "collapsed": true,
    "ExecuteTime": {
     "end_time": "2025-02-21T00:25:50.562803Z",
     "start_time": "2025-02-21T00:25:43.729569Z"
    }
   },
   "source": [
    "# selenium 설치,\n",
    "# pip install selenium\n",
    "\n",
    "# 웹 드라이버 실행, (Chrome)\n",
    "from selenium import webdriver\n",
    "from selenium.webdriver import ActionChains\n",
    "\n",
    "# Chrome 드라이버 실행.\n",
    "driver = webdriver.Chrome()\n",
    "# 특정 URL 열기. 구글\n",
    "driver.get(\"http://www.google.com\")\n",
    "driver.quit()\n",
    "\n"
   ],
   "outputs": [],
   "execution_count": 1
  },
  {
   "metadata": {
    "ExecuteTime": {
     "end_time": "2025-02-21T00:34:55.888264Z",
     "start_time": "2025-02-21T00:34:52.888292Z"
    }
   },
   "cell_type": "code",
   "source": [
    "# 2 웹페이지 요소 찾기 (find_element, find_elements)\n",
    "from selenium import webdriver\n",
    "\n",
    "driver = webdriver.Chrome()\n",
    "driver.get(\"http://www.google.com\")\n",
    "#요소 찾기 (name 속성 사용)\n",
    "search_box = driver.find_element(\"name\",\"q\")\n",
    "print(search_box)\n",
    "\n",
    "#요소 여러 개 찾기 (class 속성 사용)\n",
    "links = driver.find_elements(\"tag name\", \"a\")\n",
    "print(len(links))\n",
    "# driver.quit()"
   ],
   "id": "8fe17107ecd9b8d1",
   "outputs": [
    {
     "name": "stdout",
     "output_type": "stream",
     "text": [
      "<selenium.webdriver.remote.webelement.WebElement (session=\"e471b98bddffb8b5d92812916b619221\", element=\"f.F3AC9D5D42FC6A9A3AC9AC1586DF3DE7.d.2D4CDC586B0F14D29CE0F141E75ABEDE.e.2\")>\n",
      "16\n"
     ]
    }
   ],
   "execution_count": 4
  },
  {
   "metadata": {
    "ExecuteTime": {
     "end_time": "2025-02-21T00:41:07.982027Z",
     "start_time": "2025-02-21T00:40:57.879128Z"
    }
   },
   "cell_type": "code",
   "source": [
    "# 3 웹 페이지 로딩 대기( implicitly_wait, time.sleep)\n",
    "# 웹페이지가 완전히 로드될 때까지 기다리는 기능,\n",
    "from selenium import webdriver\n",
    "import time\n",
    "\n",
    "driver = webdriver.Chrome()\n",
    "driver.get(\"http://www.google.com\")\n",
    "\n",
    "#암묵적 대기, (최대 10초까지 대기, 실행이 되면, 즉시 실행)\n",
    "# 전역처럼, 한번만 실행함.\n",
    "# driver.implicitly_wait(10)\n",
    "\n",
    "# 명시적 대기 (5초), 무조건 5초 기다림. , 매번 코드를 작성해야함.\n",
    "time.sleep(5)\n",
    "driver.quit()\n"
   ],
   "id": "c2bd60c87d7bf362",
   "outputs": [],
   "execution_count": 6
  },
  {
   "metadata": {
    "ExecuteTime": {
     "end_time": "2025-02-21T00:45:21.487737Z",
     "start_time": "2025-02-21T00:45:02.853881Z"
    }
   },
   "cell_type": "code",
   "source": [
    "# 4 특정 요소 클릭 (click)\n",
    "from selenium import webdriver\n",
    "import time\n",
    "\n",
    "driver = webdriver.Chrome()\n",
    "driver.get(\"http://www.google.com\")\n",
    "\n",
    "time.sleep(5)\n",
    "\n",
    "# 구글 , 이메일 버튼 클릭, Gmail\n",
    "button = driver.find_element(\"link text\", \"Gmail\")\n",
    "button.click()\n",
    "time.sleep(5)\n",
    "driver.quit()\n"
   ],
   "id": "923db8619ec45a6",
   "outputs": [],
   "execution_count": 8
  },
  {
   "metadata": {
    "ExecuteTime": {
     "end_time": "2025-02-21T00:49:42.582302Z",
     "start_time": "2025-02-21T00:49:31.020036Z"
    }
   },
   "cell_type": "code",
   "source": [
    "#5 키보드 입력(send_keys())\n",
    "from selenium import webdriver\n",
    "import time\n",
    "from selenium.webdriver.common.keys import Keys\n",
    "\n",
    "driver = webdriver.Chrome()\n",
    "driver.get(\"http://www.google.com\")\n",
    "\n",
    "driver.implicitly_wait(10)\n",
    "\n",
    "search_box = driver.find_element(\"name\",\"q\")\n",
    "search_box.send_keys(\"날씨\")\n",
    "search_box.send_keys(Keys.RETURN)\n",
    "time.sleep(5)\n",
    "driver.quit()"
   ],
   "id": "3239b770d8554d3c",
   "outputs": [],
   "execution_count": 2
  },
  {
   "metadata": {
    "ExecuteTime": {
     "end_time": "2025-02-21T01:04:42.811191Z",
     "start_time": "2025-02-21T01:04:30.985104Z"
    }
   },
   "cell_type": "code",
   "source": [
    "# 6 자바스크립트 실행 (excute_script())\n",
    "from selenium import webdriver\n",
    "import time\n",
    "from selenium.webdriver.common.keys import Keys\n",
    "\n",
    "driver = webdriver.Chrome()\n",
    "driver.get(\"https://news.google.com\")\n",
    "time.sleep(3)\n",
    "#페이지 맨 아래로 스크롤\n",
    "driver.execute_script(\"window.scrollTo(0, document.body.scrollHeight);\")\n",
    "time.sleep(3)\n",
    "driver.quit()"
   ],
   "id": "69f5e83f70ef7a76",
   "outputs": [],
   "execution_count": 4
  },
  {
   "metadata": {
    "ExecuteTime": {
     "end_time": "2025-02-21T01:08:20.017684Z",
     "start_time": "2025-02-21T01:08:05.563092Z"
    }
   },
   "cell_type": "code",
   "source": [
    "# 7 새창 열기 및 핸들 전환 (window_handles)\n",
    "from selenium import webdriver\n",
    "import time\n",
    "from selenium.webdriver.common.keys import Keys\n",
    "\n",
    "driver = webdriver.Chrome()\n",
    "driver.get(\"https://www.google.com\")\n",
    "time.sleep(3)\n",
    "\n",
    "# 새창 열기,\n",
    "driver.execute_script(\"window.open('https://naver.com');\")\n",
    "time.sleep(3)\n",
    "\n",
    "# 창 핸들 가져오기.\n",
    "windows = driver.window_handles\n",
    "driver.switch_to.window(windows[0])\n",
    "\n",
    "time.sleep(3)\n",
    "driver.quit()"
   ],
   "id": "1f39f56d913c3334",
   "outputs": [],
   "execution_count": 6
  },
  {
   "metadata": {
    "ExecuteTime": {
     "end_time": "2025-02-21T01:15:23.879221Z",
     "start_time": "2025-02-21T01:15:06.238074Z"
    }
   },
   "cell_type": "code",
   "source": [
    "# 8 프레임 전환( switch_to.frame() )\n",
    "from selenium import webdriver\n",
    "import time\n",
    "from selenium.webdriver.common.keys import Keys\n",
    "\n",
    "driver = webdriver.Chrome()\n",
    "\n",
    "# iframe 테스트 사이트, w3schools\n",
    "driver.get(\"https://www.w3schools.com/html/html_iframe.asp\")\n",
    "time.sleep(3)\n",
    "\n",
    "#페이지 전환, iframe 안의 콘텐츠 로딩.\n",
    "iframe = driver.find_element(\"css selector\", \"iframe[src*='default.asp']\")\n",
    "driver.switch_to.frame(iframe)\n",
    "\n",
    "# 프레임 내 요소 찾기,\n",
    "element = driver.find_element(\"css selector\", \"h1\")\n",
    "print(element.text)\n",
    "time.sleep(3)\n",
    "driver.quit()"
   ],
   "id": "5f772706c69f440c",
   "outputs": [
    {
     "name": "stdout",
     "output_type": "stream",
     "text": [
      "HTML Tutorial\n"
     ]
    }
   ],
   "execution_count": 8
  },
  {
   "metadata": {
    "ExecuteTime": {
     "end_time": "2025-02-21T01:20:53.446063Z",
     "start_time": "2025-02-21T01:20:39.453109Z"
    }
   },
   "cell_type": "code",
   "source": [
    "# 9 쿠키 가져오기 및 설정, (get_cookies, add_cookie)\n",
    "from selenium import webdriver\n",
    "import time\n",
    "from selenium.webdriver.common.keys import Keys\n",
    "\n",
    "driver = webdriver.Chrome()\n",
    "\n",
    "# iframe 테스트 사이트, w3schools\n",
    "driver.get(\"https://www.google.com\")\n",
    "time.sleep(3)\n",
    "\n",
    "# 기존 쿠키 출력\n",
    "# print(\"기존 쿠키:\")\n",
    "# print(driver.get_cookies())\n",
    "\n",
    "# 쿠키 추가,\n",
    "driver.add_cookie({\"name\":\"lsy_lunch\", \"value\":\"신라면\"})\n",
    "\n",
    "# 페이지 새로고침\n",
    "driver.refresh()\n",
    "time.sleep(3)\n",
    "\n",
    "#추가된 쿠키 확인.\n",
    "print(\"추가된 쿠키 확인 \")\n",
    "cookies = driver.get_cookies()\n",
    "print(cookies)\n",
    "\n",
    "# 특정 쿠키 값 만 출력 해보기.\n",
    "for cookie in cookies:\n",
    "    if cookie[\"name\"] == \"lsy_lunch\":\n",
    "        print(f\"추가된 값 : {cookie['value']}\")\n",
    "time.sleep(3)\n",
    "driver.quit()"
   ],
   "id": "78184be64cde6cda",
   "outputs": [
    {
     "name": "stdout",
     "output_type": "stream",
     "text": [
      "추가된 쿠키 확인 \n",
      "[{'domain': 'www.google.com', 'httpOnly': False, 'name': 'lsy_lunch', 'path': '/', 'sameSite': 'Lax', 'secure': True, 'value': '신라면'}, {'domain': '.google.com', 'expiry': 1755912042, 'httpOnly': True, 'name': 'NID', 'path': '/', 'sameSite': 'None', 'secure': True, 'value': '521=irT6Dg9fqAdhEUPNygqbkMgYr-D2D7ld6loNB3XNHbdlblxUTSYtaqDa7Jlrwt-JQvrub_fjFenhvl5z4gVGbjlKSGq0h7SdwxAj6jIOzRC-K1MccQCbBUqLfDPwXWpdgA7nu7a785LNpa2cJv-MI8EobQfOtfVF3H2gsucEjZT2I7Kjgc2T6AT6iAbPJEgHqFiPT7y_sdR5eRhvpo81FWuGddhqPA2P'}, {'domain': '.google.com', 'expiry': 1742692842, 'httpOnly': False, 'name': 'OGPC', 'path': '/', 'sameSite': 'Lax', 'secure': False, 'value': '19046228-1:'}, {'domain': 'www.google.com', 'expiry': 1740122444, 'httpOnly': False, 'name': 'UULE', 'path': '/', 'sameSite': 'Lax', 'secure': True, 'value': 'a+cm9sZTogMQpwcm9kdWNlcjogMTIKdGltZXN0YW1wOiAxNzQwMTAwODQ0OTA1MDAwCmxhdGxuZyB7CiAgbGF0aXR1ZGVfZTc6IDM1MTg1MjQ4OQogIGxvbmdpdHVkZV9lNzogMTI5MDUwMjI1MQp9CnJhZGl1czogMjA1MzA3NC41NDgwMzg1MjgKcHJvdmVuYW5jZTogNgo='}, {'domain': '.google.com', 'expiry': 1755652841, 'httpOnly': True, 'name': 'AEC', 'path': '/', 'sameSite': 'Lax', 'secure': True, 'value': 'AVcja2d9PDUWDJ1K8Sto3_Q-rzKRu70zDZdUiVvrgd80HfO_S1rK8NNFFA'}]\n",
      "추가된 값 : 신라면\n"
     ]
    }
   ],
   "execution_count": 11
  },
  {
   "metadata": {
    "ExecuteTime": {
     "end_time": "2025-02-21T01:22:41.348900Z",
     "start_time": "2025-02-21T01:22:32.445264Z"
    }
   },
   "cell_type": "code",
   "source": [
    "# 10 스크린 샷 저장 (save_screenshot())\n",
    "from selenium import webdriver\n",
    "import time\n",
    "from selenium.webdriver.common.keys import Keys\n",
    "\n",
    "driver = webdriver.Chrome()\n",
    "driver.get(\"https://www.google.com\")\n",
    "time.sleep(3)\n",
    "\n",
    "# 스크린샷 저장,\n",
    "driver.save_screenshot(\"test_screenshot.png\")\n",
    "driver.quit()"
   ],
   "id": "90c6cea3183be6f8",
   "outputs": [],
   "execution_count": 12
  },
  {
   "metadata": {
    "ExecuteTime": {
     "end_time": "2025-02-21T01:29:41.637635Z",
     "start_time": "2025-02-21T01:29:32.837657Z"
    }
   },
   "cell_type": "code",
   "source": [
    "# 11 특정 요소가 로드될 때까지 대기 (WebDriverWait)\n",
    "from selenium import webdriver\n",
    "import time\n",
    "from selenium.webdriver.common.keys import Keys\n",
    "from selenium.webdriver.common.by import By\n",
    "from selenium.webdriver.support.ui import WebDriverWait\n",
    "from selenium.webdriver.support import expected_conditions as EC\n",
    "\n",
    "driver = webdriver.Chrome()\n",
    "driver.get(\"https://www.google.com\")\n",
    "\n",
    "# 특정 요소가 나타날 때까지 10초 대기.\n",
    "search_box = WebDriverWait(driver, 10).until(\n",
    "    EC.presence_of_element_located((By.NAME, \"q\"))\n",
    ")\n",
    "\n",
    "search_box.send_keys(\"selenium 대기 테스트 \")\n",
    "time.sleep(3)\n",
    "driver.quit()\n",
    "\n"
   ],
   "id": "f8fe1e4a3bc33ef1",
   "outputs": [],
   "execution_count": 14
  },
  {
   "metadata": {
    "ExecuteTime": {
     "end_time": "2025-02-21T01:35:52.139616Z",
     "start_time": "2025-02-21T01:35:43.586927Z"
    }
   },
   "cell_type": "code",
   "source": [
    "# 12  마우스 이벤트 조작 (ActionChains)\n",
    "from selenium import webdriver\n",
    "import time\n",
    "from selenium.webdriver.common.keys import Keys\n",
    "from selenium.webdriver.common.by import By\n",
    "from selenium.webdriver.support.ui import WebDriverWait\n",
    "from selenium.webdriver.support import expected_conditions as EC\n",
    "from selenium.webdriver.common.action_chains import ActionChains\n",
    "\n",
    "driver = webdriver.Chrome()\n",
    "driver.get(\"https://www.google.com\")\n",
    "\n",
    "# 요소 찾기,\n",
    "element = driver.find_element(\"link text\", \"Gmail\")\n",
    "\n",
    "# 마우스 오버\n",
    "actions = ActionChains(driver)\n",
    "actions.move_to_element(element).perform()\n",
    "\n",
    "time.sleep(3)\n",
    "driver.quit()"
   ],
   "id": "f201c591d88bbc8a",
   "outputs": [],
   "execution_count": 16
  },
  {
   "metadata": {
    "ExecuteTime": {
     "end_time": "2025-02-21T01:37:49.791488Z",
     "start_time": "2025-02-21T01:37:38.229181Z"
    }
   },
   "cell_type": "code",
   "source": [
    "# 13 입력값 삭제,\n",
    "from selenium import webdriver\n",
    "import time\n",
    "from selenium.webdriver.common.keys import Keys\n",
    "from selenium.webdriver.common.by import By\n",
    "from selenium.webdriver.support.ui import WebDriverWait\n",
    "from selenium.webdriver.support import expected_conditions as EC\n",
    "from selenium.webdriver.common.action_chains import ActionChains\n",
    "\n",
    "driver = webdriver.Chrome()\n",
    "driver.get(\"https://www.google.com\")\n",
    "\n",
    "search_box = driver.find_element(\"name\", \"q\")\n",
    "search_box.send_keys(\"selenium 입력 테스트 \")\n",
    "time.sleep(3)\n",
    "search_box.clear()\n",
    "time.sleep(3)\n",
    "driver.quit()"
   ],
   "id": "75907831dd1c4ebd",
   "outputs": [],
   "execution_count": 17
  },
  {
   "metadata": {
    "ExecuteTime": {
     "end_time": "2025-02-21T01:40:14.933841Z",
     "start_time": "2025-02-21T01:40:03.360408Z"
    }
   },
   "cell_type": "code",
   "source": [
    "# 14 브라우저 창 크기 조절, (set_winodw_size())\n",
    "from selenium import webdriver\n",
    "import time\n",
    "from selenium.webdriver.common.keys import Keys\n",
    "from selenium.webdriver.common.by import By\n",
    "from selenium.webdriver.support.ui import WebDriverWait\n",
    "from selenium.webdriver.support import expected_conditions as EC\n",
    "from selenium.webdriver.common.action_chains import ActionChains\n",
    "\n",
    "driver = webdriver.Chrome()\n",
    "driver.get(\"https://www.google.com\")\n",
    "time.sleep(3)\n",
    "\n",
    "# 브라우저 크기 조절.\n",
    "driver.set_window_size(1500, 768)\n",
    "\n",
    "time.sleep(3)\n",
    "driver.quit()"
   ],
   "id": "4f52cce71c67f063",
   "outputs": [],
   "execution_count": 18
  },
  {
   "metadata": {
    "ExecuteTime": {
     "end_time": "2025-02-21T01:47:06.038734Z",
     "start_time": "2025-02-21T01:46:53.563762Z"
    }
   },
   "cell_type": "code",
   "source": [
    "# 15 특정 요소 로드 때 까지 대기 후, 클릭 해보기.\n",
    "\n",
    "from selenium import webdriver\n",
    "import time\n",
    "from selenium.webdriver.common.keys import Keys\n",
    "from selenium.webdriver.common.by import By\n",
    "from selenium.webdriver.support.ui import WebDriverWait\n",
    "from selenium.webdriver.support import expected_conditions as EC\n",
    "from selenium.webdriver.common.action_chains import ActionChains\n",
    "\n",
    "driver = webdriver.Chrome()\n",
    "driver.get(\"https://the-internet.herokuapp.com/dynamic_loading/1\")\n",
    "time.sleep(3)\n",
    "\n",
    "# start 버튼이 클릭 가능할 때까지 10초 대기 후 클릭.\n",
    "start_button = WebDriverWait(driver, 10).until(\n",
    "    EC.element_to_be_clickable((By.CSS_SELECTOR, \"#start button\"))\n",
    ")\n",
    "start_button.click()\n",
    "\n",
    "#로딩이 끝나고 결과 텍스트가 보일 때까지 대기.\n",
    "finish_element = WebDriverWait(driver, 10).until(\n",
    "    EC.presence_of_element_located((By.CSS_SELECTOR, \"#finish\"))\n",
    ")\n",
    "print(f\"10초후 문자열 출력: {finish_element}\")\n",
    "time.sleep(3)\n",
    "driver.quit()"
   ],
   "id": "80a23b34074df7f5",
   "outputs": [
    {
     "name": "stdout",
     "output_type": "stream",
     "text": [
      "10초후 문자열 출력: <selenium.webdriver.remote.webelement.WebElement (session=\"7c9af55303f5cc5e8dd0ec805c810b38\", element=\"f.EC4A141EC4C50F9DF1AC2DFE79E55344.d.5A9126A4D16998082DFD06D8C537DF1E.e.7\")>\n"
     ]
    }
   ],
   "execution_count": 20
  },
  {
   "metadata": {
    "ExecuteTime": {
     "end_time": "2025-02-21T02:06:26.175787Z",
     "start_time": "2025-02-21T02:06:15.034377Z"
    }
   },
   "cell_type": "code",
   "source": [
    "#16 드래그 앤 드롭 (drag_and_drop())\n",
    "\n",
    "from selenium import webdriver\n",
    "import time\n",
    "from selenium.webdriver.common.keys import Keys\n",
    "from selenium.webdriver.common.by import By\n",
    "from selenium.webdriver.support.ui import WebDriverWait\n",
    "from selenium.webdriver.support import expected_conditions as EC\n",
    "from selenium.webdriver.common.action_chains import ActionChains\n",
    "\n",
    "driver = webdriver.Chrome()\n",
    "driver.get(\"https://jqueryui.com/droppable/\")\n",
    "time.sleep(3)\n",
    "\n",
    "#프레임 전환\n",
    "driver.switch_to.frame(0)\n",
    "\n",
    "#요소찾기.\n",
    "source = driver.find_element(\"id\", \"draggable\")\n",
    "target = driver.find_element(\"id\", \"droppable\")\n",
    "\n",
    "# 드래그 앤 드롭 실행.\n",
    "actions = ActionChains(driver)\n",
    "actions.drag_and_drop(source, target).perform()\n",
    "\n",
    "time.sleep(3)\n",
    "driver.quit()\n"
   ],
   "id": "1cf0e06ed5e63a0a",
   "outputs": [],
   "execution_count": 21
  },
  {
   "metadata": {
    "ExecuteTime": {
     "end_time": "2025-02-21T02:08:05.070911Z",
     "start_time": "2025-02-21T02:07:58.009010Z"
    }
   },
   "cell_type": "code",
   "source": [
    "# 17 웹 페이지 소스 코드 가져오기.\n",
    "\n",
    "from selenium import webdriver\n",
    "import time\n",
    "from selenium.webdriver.common.keys import Keys\n",
    "from selenium.webdriver.common.by import By\n",
    "from selenium.webdriver.support.ui import WebDriverWait\n",
    "from selenium.webdriver.support import expected_conditions as EC\n",
    "from selenium.webdriver.common.action_chains import ActionChains\n",
    "\n",
    "driver = webdriver.Chrome()\n",
    "driver.get(\"https://www.goolge.com\")\n",
    "time.sleep(3)\n",
    "\n",
    "html = driver.page_source\n",
    "print(html[:500])\n",
    "driver.quit()"
   ],
   "id": "af1b9c643dee6bd4",
   "outputs": [
    {
     "name": "stdout",
     "output_type": "stream",
     "text": [
      "<html dir=\"ltr\" lang=\"ko\"><head>\n",
      "  <meta charset=\"utf-8\">\n",
      "  <meta name=\"color-scheme\" content=\"light dark\">\n",
      "  <meta name=\"theme-color\" content=\"#fff\">\n",
      "  <meta name=\"viewport\" content=\"initial-scale=1, minimum-scale=1, width=device-width\">\n",
      "  <meta http-equiv=\"Content-Security-Policy\" content=\"require-trusted-types-for 'script'; trusted-types;\">\n",
      "  <title>개인 정보 보호 오류</title>\n",
      "  <style>/* Copyright 2017 The Chromium Authors\n",
      " * Use of this source code is governed by a BSD-style license that can be\n",
      " * \n"
     ]
    }
   ],
   "execution_count": 22
  },
  {
   "metadata": {
    "ExecuteTime": {
     "end_time": "2025-02-21T02:17:14.839750Z",
     "start_time": "2025-02-21T02:17:02.735281Z"
    }
   },
   "cell_type": "code",
   "source": [
    "# 18 파일 업로드 자동화,\n",
    "from selenium import webdriver\n",
    "import time\n",
    "from selenium.webdriver.common.keys import Keys\n",
    "from selenium.webdriver.common.by import By\n",
    "from selenium.webdriver.support.ui import WebDriverWait\n",
    "from selenium.webdriver.support import expected_conditions as EC\n",
    "from selenium.webdriver.common.action_chains import ActionChains\n",
    "\n",
    "driver = webdriver.Chrome()\n",
    "driver.get(\"https://tus.io/demo.html\")\n",
    "time.sleep(3)\n",
    "\n",
    "#파일 업로드 요소 찾기, xpath\n",
    "# 경로 : //*[@id=\"P0-0\"]\n",
    "# <input id=\"P0-0\" type=\"file\">\n",
    "upload = driver.find_element(\"xpath\", \"//input[@type='file']\")\n",
    "# 각자 업로드 테스트 할 파일 경로 지정 해주기.\n",
    "upload.send_keys(r\"D:\\0-PythonCrawlerTest\\ch3-Dynamic-Crawling-Test\\test_screenshot.png\")\n",
    "time.sleep(5)\n",
    "driver.quit()"
   ],
   "id": "d905e2d99e203c95",
   "outputs": [],
   "execution_count": 23
  },
  {
   "metadata": {},
   "cell_type": "code",
   "outputs": [],
   "execution_count": null,
   "source": "",
   "id": "ead0cfd75da70883"
  }
 ],
 "metadata": {
  "kernelspec": {
   "display_name": "Python 3",
   "language": "python",
   "name": "python3"
  },
  "language_info": {
   "codemirror_mode": {
    "name": "ipython",
    "version": 2
   },
   "file_extension": ".py",
   "mimetype": "text/x-python",
   "name": "python",
   "nbconvert_exporter": "python",
   "pygments_lexer": "ipython2",
   "version": "2.7.6"
  }
 },
 "nbformat": 4,
 "nbformat_minor": 5
}
