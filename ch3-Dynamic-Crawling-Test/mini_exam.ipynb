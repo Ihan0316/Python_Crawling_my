{
 "cells": [
  {
   "cell_type": "code",
   "execution_count": null,
   "id": "initial_id",
   "metadata": {
    "collapsed": true
   },
   "outputs": [],
   "source": [
    "# [문제 1] 네이버 홈페이지에서 검색창에 'Selenium 자동화'\n",
    "# 입력 후 엔터 키를 누르는 코드를 작성하세요."
   ]
  },
  {
   "metadata": {
    "ExecuteTime": {
     "end_time": "2025-02-21T04:57:30.942607Z",
     "start_time": "2025-02-21T04:56:58.425288Z"
    }
   },
   "cell_type": "code",
   "source": [
    "from selenium import webdriver\n",
    "import time\n",
    "from selenium.webdriver.common.keys import Keys\n",
    "\n",
    "driver = webdriver.Chrome()\n",
    "driver.get(\"https://www.naver.com\")\n",
    "time.sleep(3)\n",
    "\n",
    "search_box = driver.find_element(\"name\", \"query\")\n",
    "search_box.send_keys(\"Selenium 자동화\")\n",
    "search_box.send_keys(Keys.ENTER)\n",
    "time.sleep(3)\n",
    "driver.quit()\n",
    "\n"
   ],
   "id": "f7c0470c52c5c3f5",
   "outputs": [],
   "execution_count": 1
  },
  {
   "metadata": {
    "ExecuteTime": {
     "end_time": "2025-02-21T05:01:17.191811Z",
     "start_time": "2025-02-21T05:01:06.532803Z"
    }
   },
   "cell_type": "code",
   "source": [
    "# [문제 2] 네이버 홈페이지에서 '뉴스' 링크를 클릭하여\n",
    "# 뉴스 페이지로 이동하는 코드를 작성하세요.\n",
    "\n",
    "from selenium import webdriver\n",
    "import time\n",
    "from selenium.webdriver.common.keys import Keys\n",
    "from selenium.webdriver.common.by import By\n",
    "\n",
    "driver = webdriver.Chrome()\n",
    "driver.get(\"https://www.naver.com\")\n",
    "time.sleep(3)\n",
    "\n",
    "#뉴스 링크 클릭, CSS_SELECTOR 사용,\n",
    "news_link = driver.find_element(By.CSS_SELECTOR, \"a.link_service[href*='news']\")\n",
    "news_link.click()\n",
    "\n",
    "time.sleep(3)\n",
    "driver.quit()\n"
   ],
   "id": "6e13d2166042b640",
   "outputs": [],
   "execution_count": 2
  },
  {
   "metadata": {
    "ExecuteTime": {
     "end_time": "2025-02-21T05:03:09.096721Z",
     "start_time": "2025-02-21T05:03:00.037802Z"
    }
   },
   "cell_type": "code",
   "source": [
    "# [문제 3] 구글 검색에서 ' Selenium'을 검색한 후\n",
    "# 검색 결과 페이지의 HTML을 가져오는 코드를 작성하세요.\n",
    "from selenium import webdriver\n",
    "import time\n",
    "from selenium.webdriver.common.keys import Keys\n",
    "from selenium.webdriver.common.by import By\n",
    "\n",
    "driver = webdriver.Chrome()\n",
    "driver.get(\"https://www.google.com\")\n",
    "time.sleep(3)\n",
    "\n",
    "search_box = driver.find_element(\"name\", \"q\")\n",
    "search_box.send_keys(\"Selenium\")\n",
    "search_box.send_keys(Keys.ENTER)\n",
    "\n",
    "#검색 결과 페이지 HTML 가져오기.\n",
    "html = driver.page_source\n",
    "print(html[:5000])\n",
    "\n",
    "driver.quit()"
   ],
   "id": "806d4f9a6d7b7f37",
   "outputs": [
    {
     "name": "stdout",
     "output_type": "stream",
     "text": [
      "<html dir=\"LTR\"><head><meta http-equiv=\"origin-trial\" content=\"A/kargTFyk8MR5ueravczef/wIlTkbVk1qXQesp39nV+xNECPdLBVeYffxrM8TmZT6RArWGQVCJ0LRivD7glcAUAAACQeyJvcmlnaW4iOiJodHRwczovL2dvb2dsZS5jb206NDQzIiwiZmVhdHVyZSI6IkRpc2FibGVUaGlyZFBhcnR5U3RvcmFnZVBhcnRpdGlvbmluZzIiLCJleHBpcnkiOjE3NDIzNDIzOTksImlzU3ViZG9tYWluIjp0cnVlLCJpc1RoaXJkUGFydHkiOnRydWV9\"><meta http-equiv=\"content-type\" content=\"text/html; charset=utf-8\"><meta name=\"viewport\" content=\"initial-scale=1\"><title>https://www.google.com/search?q=Selenium&amp;sca_esv=026fd76a3624c384&amp;source=hp&amp;ei=Bgm4Z5ntBOyB2roPgNOQoAM&amp;iflsig=ACkRmUkAAAAAZ7gXFpvZdbwMcdoX9vAwhTd3cq08rxbp&amp;ved=0ahUKEwiZiMS9_tOLAxXsgFYBHYApBDQQ4dUDCBE&amp;uact=5&amp;oq=Selenium&amp;gs_lp=Egdnd3Mtd2l6IghTZWxlbml1bUgpUABYEHAAeACQAQCYAQCgAQCqAQC4AQPIAQD4AQGYAgCgAgCYAwCSBwCgBwA&amp;sclient=gws-wiz&amp;sei=CQm4Z4-gGsvh2roP0vCE8Qs</title></head>\n",
      "<body style=\"font-family: arial, sans-serif; background-color: #fff; color: #000; padding:20px; font-size:18px; overscroll-behavior:contain;\" onload=\"e=document.getElementById('captcha');if(e){e.focus();} if(solveSimpleChallenge) {solveSimpleChallenge(0,0);}\">\n",
      "<div style=\"max-width:400px;\">\n",
      "<hr noshade=\"\" size=\"1\" style=\"color:#ccc; background-color:#ccc;\"><br>\n",
      "<form id=\"captcha-form\" action=\"index\" method=\"post\">\n",
      "<noscript>\n",
      "<div style=\"font-size:13px;\">\n",
      "계속하려면 웹브라우저에서 자바스크립트를 사용 설정해 주세요.\n",
      "</div>\n",
      "</noscript>\n",
      "<script type=\"text/javascript\" async=\"\" charset=\"utf-8\" src=\"https://www.gstatic.com/recaptcha/releases/IyZ984yGrXrBd6ihLOYGwy9X/recaptcha__ko.js\" crossorigin=\"anonymous\" integrity=\"sha384-YXOM2N2doMcz46qr0w/J1xkbNeBe8ysgasNzgFoafEfA5ARZKK39a0f79RU/+ak7\"></script><script src=\"https://www.google.com/recaptcha/api.js\" async=\"\" defer=\"\"></script>\n",
      "<script>var submitCallback = function(response) {document.getElementById('captcha-form').submit();};</script>\n",
      "<div id=\"recaptcha\" class=\"g-recaptcha\" data-sitekey=\"6LfwuyUTAAAAAOAmoS0fdqijC2PbbdH4kjq62Y1b\" data-callback=\"submitCallback\" data-s=\"kLUefPhKLzXp-bCaYytFl-G_nsq8cz1s-Qmjaf2NaqUuNdlmamj6Pl9y-QDvdLMKlZXF9tkxLahNlkgvpBlAQTd0YUEP1i3fwNt8e7V5haA6ytUBFXJI_Y_WL8CTluoymgK-KHDrxEo-1TchX5s_VlIsO9fVE5yQm1iwQz3-btMIFTZawDMQrJ27z-4hGb38rQ7LFhbbXx4fZZcpmsMlXa38ZINhG_JPqpVjAYO4SMeyXxV_dighV5xXF3j29ubJsQ53IlxowpwbsB0bTDqJGZX3PQWM9uI\"><div style=\"width: 304px; height: 78px;\"><div><iframe title=\"reCAPTCHA\" width=\"304\" height=\"78\" role=\"presentation\" name=\"a-s2s6mqzfz0iq\" frameborder=\"0\" scrolling=\"no\" sandbox=\"allow-forms allow-popups allow-same-origin allow-scripts allow-top-navigation allow-modals allow-popups-to-escape-sandbox allow-storage-access-by-user-activation\" src=\"https://www.google.com/recaptcha/api2/anchor?ar=1&amp;k=6LfwuyUTAAAAAOAmoS0fdqijC2PbbdH4kjq62Y1b&amp;co=aHR0cHM6Ly93d3cuZ29vZ2xlLmNvbTo0NDM.&amp;hl=ko&amp;v=IyZ984yGrXrBd6ihLOYGwy9X&amp;size=normal&amp;s=kLUefPhKLzXp-bCaYytFl-G_nsq8cz1s-Qmjaf2NaqUuNdlmamj6Pl9y-QDvdLMKlZXF9tkxLahNlkgvpBlAQTd0YUEP1i3fwNt8e7V5haA6ytUBFXJI_Y_WL8CTluoymgK-KHDrxEo-1TchX5s_VlIsO9fVE5yQm1iwQz3-btMIFTZawDMQrJ27z-4hGb38rQ7LFhbbXx4fZZcpmsMlXa38ZINhG_JPqpVjAYO4SMeyXxV_dighV5xXF3j29ubJsQ53IlxowpwbsB0bTDqJGZX3PQWM9uI&amp;cb=hilzbahw2tbn\"></iframe></div><textarea id=\"g-recaptcha-response\" name=\"g-recaptcha-response\" class=\"g-recaptcha-response\" style=\"width: 250px; height: 40px; border: 1px solid rgb(193, 193, 193); margin: 10px 25px; padding: 0px; resize: none; display: none;\"></textarea></div><iframe style=\"display: none;\"></iframe></div>\n",
      "\n",
      "<input type=\"hidden\" name=\"q\" value=\"EgTe6iRWGImS4L0GIjD3Ta9UzRA6E71PumCCANL7nEjfXDYi6Hv7pmHRvhI3oWzJ5EMg95IzUcquugsyFDkyAXJaAUM\"><input type=\"hidden\" name=\"continue\" value=\"https://www.google.com/search?q=Selenium&amp;sca_esv=026fd76a3624c384&amp;source=hp&amp;ei=Bgm4Z5ntBOyB2roPgNOQoAM&amp;iflsig=ACkRmUkAAAAAZ7gXFpvZdbwMcdoX9vAwhTd3cq08rxbp&amp;ved=0ahUKEwiZiMS9_tOLAxXsgFYBHYApBDQQ4dUDCBE&amp;uact=5&amp;oq=Selenium&amp;gs_lp=Egdnd3Mtd2l6IghTZWxlbml1bUgpUABYEHAAeACQAQCYAQCgAQCqAQC4AQPIAQD4AQGYAgCgAgCYAwCSBwCgBwA&amp;sclient=gws-wiz&amp;sei=CQm4Z4-gGsvh2roP0vCE8Qs\">\n",
      "</form>\n",
      "<hr noshade=\"\" size=\"1\" style=\"color:#ccc; background-color:#ccc;\">\n",
      "<div style=\"font-size:13px; line-break: anywhere;\">\n",
      "<b>페이지 정보</b><br><br>\n",
      "\n",
      "Google의 시스템이 컴퓨터 네트워크에서 비정상적인 트래픽을 감지했습니다. 이 페이지는 로봇이 아니라 실제 사용자가 요청을 보내고 있는지를 확인하는 페이지입니다. <a href=\"#\" onclick=\"document.getElementById('infoDiv').style.display='block';\">왜 이런 현상이 발생하는 거죠?</a><br><br>\n",
      "\n",
      "<div id=\"infoDiv\" style=\"display:none; background-color:#eee; padding:10px; margin:0 0 15px 0; line-height:1.4em;\">\n",
      "해당 페이지는 Google이 자동으로 사용자의 컴퓨터 네트워크에서 <a href=\"//www.google.com/policies/terms/\">서비스 약관</a>을 위배하는 것으로 보이는 요청을 감지했을 때 표시됩니다. 요청이 중지되면 곧 차단이 해제됩니다. 그 전에 위의 보안문자를 입력하면 Google 서비스를 계속 사용할 수 있습니다. <br><br>비정상적인 트래픽은 자동으로 요청을 전송하는 악성 소프트웨어, 브라우저 플러그인 또는 스크립트에 의해 전송될 수 있습니다. 네트워크 연결을 공유하고 있다면 관리자에게 문의하여 동일한 IP주소를 사용하는 다른 컴퓨터에 문제가 있는지 확인하세요. <a href=\"//support.google.com/websearch/answer/86640\">자세히 알아보기</a><br><br>로봇이 사용한다고 알려진 고급 검색어를 사용하거나 요청을 매우 빠르게 전송하면  보안문자를 입력하도록 요청받을 수 있습니다.\n",
      "\n",
      "</div><br>\n",
      "IP주소: 222.234.36.86<br>\n"
     ]
    }
   ],
   "execution_count": 3
  },
  {
   "metadata": {},
   "cell_type": "code",
   "outputs": [],
   "execution_count": null,
   "source": [
    "# [문제 4] 특정 웹사이트에서 버튼이 활성화될 때까지\n",
    "# 10초 동안 기다렸다가 클릭하는 코드를 작성하세요."
   ],
   "id": "437b0541c30362b6"
  },
  {
   "metadata": {
    "ExecuteTime": {
     "end_time": "2025-02-21T05:05:00.678403Z",
     "start_time": "2025-02-21T05:04:26.361339Z"
    }
   },
   "cell_type": "code",
   "source": [
    "from selenium import webdriver\n",
    "from selenium.webdriver.common.by import By\n",
    "from selenium.webdriver.support.ui import WebDriverWait\n",
    "from selenium.webdriver.support import expected_conditions as EC\n",
    "import time\n",
    "\n",
    "# Chrome 드라이버 실행\n",
    "driver = webdriver.Chrome()\n",
    "driver.get(\"https://the-internet.herokuapp.com/dynamic_controls\")\n",
    "\n",
    "# 🔹 \"Enable\" 버튼 클릭 (텍스트 입력 필드를 활성화)\n",
    "enable_button = driver.find_element(By.XPATH, \"//button[text()='Enable']\")\n",
    "enable_button.click()\n",
    "\n",
    "# 🔹 입력 필드가 활성화될 때까지 최대 10초 대기\n",
    "input_field = WebDriverWait(driver, 10).until(\n",
    "    EC.element_to_be_clickable((By.XPATH, \"//input[@type='text']\"))\n",
    ")\n",
    "\n",
    "# 🔹 입력 필드에 텍스트 입력\n",
    "input_field.send_keys(\"테스트 입력 완료!\")\n",
    "\n",
    "print(\"✅ 버튼이 활성화되어 입력 필드에 입력 성공!\")\n",
    "\n",
    "time.sleep(3)  # 실행 결과 확인을 위해 대기\n",
    "driver.quit()\n",
    "\n",
    "driver.quit()"
   ],
   "id": "5a75f267e3e770b4",
   "outputs": [
    {
     "name": "stdout",
     "output_type": "stream",
     "text": [
      "✅ 버튼이 활성화되어 입력 필드에 입력 성공!\n"
     ]
    }
   ],
   "execution_count": 4
  },
  {
   "metadata": {
    "ExecuteTime": {
     "end_time": "2025-02-21T05:10:23.074893Z",
     "start_time": "2025-02-21T05:10:08.195317Z"
    }
   },
   "cell_type": "code",
   "source": [
    "# [문제 5]\n",
    "# 네이버에서 'Selenium 자동화' 검색 후,\n",
    "# 검색 결과 상위 5개의 제목을 출력하는 코드를 작성하세요.\n",
    "#\n",
    "\n",
    "from selenium import webdriver\n",
    "import time\n",
    "from selenium.webdriver.common.keys import Keys\n",
    "from selenium.webdriver.common.by import By\n",
    "from selenium.webdriver.support.ui import WebDriverWait\n",
    "from selenium.webdriver.support import expected_conditions as EC\n",
    "\n",
    "driver = webdriver.Chrome()\n",
    "driver.get(\"https://www.naver.com\")\n",
    "time.sleep(3)\n",
    "\n",
    "# 검색창 찾기.\n",
    "search_box = driver.find_element(\"name\", \"query\")\n",
    "search_box.send_keys(\"Selenium 자동화\")\n",
    "search_box.send_keys(Keys.ENTER)\n",
    "time.sleep(3)\n",
    "\n",
    "# 검색 결과 제목 가져오기 , 상위 5개만,\n",
    "titles = driver.find_elements(By.CSS_SELECTOR, \"a.news_tit\")[:5]\n",
    "print(\"검색 결과 상위 5개 : \", len(titles))\n",
    "for index, title in enumerate(titles):\n",
    "    print(f\"{index + 1}. {title.text}\")\n",
    "\n",
    "driver.quit()\n"
   ],
   "id": "b11dfe6708195944",
   "outputs": [
    {
     "name": "stdout",
     "output_type": "stream",
     "text": [
      "검색 결과 상위 5개 :  5\n",
      "1. AI 에이전트를 위한 웹 브라우저 자동화 프로젝트 ‘브라우저 유즈’\n",
      "2. QA에서 진화된 AI 시대 필수 인력·· ‘IT 자동화 엔지니어’의 핵심 역...\n",
      "3. 코드프렌즈, 파이썬과 AI로 끝내는 업무 자동화 강의 출시\n",
      "4. ㈜이젠고, UI테스트자동화 솔루션 \"레서스\" 출시\n",
      "5. 임퍼바 \"계정 탈취 공격, 고도의 전문성으로 차단\"\n"
     ]
    }
   ],
   "execution_count": 5
  },
  {
   "metadata": {
    "ExecuteTime": {
     "end_time": "2025-02-21T05:22:47.372812Z",
     "start_time": "2025-02-21T05:21:58.098343Z"
    }
   },
   "cell_type": "code",
   "source": [
    "# [문제 6]\n",
    "# https://news.google.com 이용해보기.\n",
    "# 무한 스크롤이 있는 웹사이트에서 특정 개수만큼\n",
    "# 스크롤을 내린 후 스크린샷을 저장하는 코드를 작성하세요.\n",
    "# (600px , 내리면서, 각각 화면 캡쳐하기)\n",
    "\n",
    "from selenium import webdriver\n",
    "import time\n",
    "from selenium.webdriver.common.keys import Keys\n",
    "from selenium.webdriver.common.by import By\n",
    "from selenium.webdriver.support.ui import WebDriverWait\n",
    "from selenium.webdriver.support import expected_conditions as EC\n",
    "\n",
    "driver = webdriver.Chrome()\n",
    "driver.get(\"https://news.google.com\")\n",
    "time.sleep(3)\n",
    "\n",
    "# 완전히 페이지 로드 될때까지 기다리 코드,\n",
    "WebDriverWait(driver, 10).until(\n",
    "    EC.presence_of_element_located((By.TAG_NAME, \"body\"))\n",
    ")\n",
    "\n",
    "# 주요 뉴스 버튼 , 요소 : class=\"aqvwYd\"\n",
    "try:\n",
    "    news_link = WebDriverWait(driver, 10).until(\n",
    "        EC.presence_of_element_located((By.CSS_SELECTOR, \"a.aqvwYd\"))\n",
    "    )\n",
    "    news_link.click()\n",
    "    print(\"주요 뉴스 링크 클릭함, \")\n",
    "    time.sleep(3)\n",
    "except:\n",
    "    print(\"주요 뉴스 버튼 링크가 없어요,\")\n",
    "\n",
    "#  600px 씩 스크롤 내려서, 캡쳐하기.\n",
    "scroll_count = 10\n",
    "for i in range(scroll_count):\n",
    "    #현재 화면 캡쳐\n",
    "    screenshot_path = f\"google_news_scroll_{i+1}.png\"\n",
    "    driver.save_screenshot(screenshot_path)\n",
    "    print(f\"{i+1}번째 화면 캡처 저장, : {screenshot_path} \")\n",
    "\n",
    "    #스크롤 내리기,\n",
    "    driver.execute_script(\"window.scrollBy(0, 600);\")\n",
    "    time.sleep(2)\n",
    "driver.quit()"
   ],
   "id": "39eb0d9b383aa5b2",
   "outputs": [
    {
     "name": "stdout",
     "output_type": "stream",
     "text": [
      "주요 뉴스 링크 클릭함, \n",
      "1번째 화면 캡처 저장, : google_news_scroll_1.png \n",
      "2번째 화면 캡처 저장, : google_news_scroll_2.png \n",
      "3번째 화면 캡처 저장, : google_news_scroll_3.png \n",
      "4번째 화면 캡처 저장, : google_news_scroll_4.png \n",
      "5번째 화면 캡처 저장, : google_news_scroll_5.png \n",
      "6번째 화면 캡처 저장, : google_news_scroll_6.png \n",
      "7번째 화면 캡처 저장, : google_news_scroll_7.png \n",
      "8번째 화면 캡처 저장, : google_news_scroll_8.png \n",
      "9번째 화면 캡처 저장, : google_news_scroll_9.png \n",
      "10번째 화면 캡처 저장, : google_news_scroll_10.png \n"
     ]
    }
   ],
   "execution_count": 7
  },
  {
   "metadata": {},
   "cell_type": "code",
   "outputs": [],
   "execution_count": null,
   "source": "",
   "id": "65695daa260b3230"
  }
 ],
 "metadata": {
  "kernelspec": {
   "display_name": "Python 3",
   "language": "python",
   "name": "python3"
  },
  "language_info": {
   "codemirror_mode": {
    "name": "ipython",
    "version": 2
   },
   "file_extension": ".py",
   "mimetype": "text/x-python",
   "name": "python",
   "nbconvert_exporter": "python",
   "pygments_lexer": "ipython2",
   "version": "2.7.6"
  }
 },
 "nbformat": 4,
 "nbformat_minor": 5
}
