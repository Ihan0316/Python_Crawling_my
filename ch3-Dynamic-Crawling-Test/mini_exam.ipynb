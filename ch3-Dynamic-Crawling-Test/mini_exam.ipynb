{
 "cells": [
  {
   "cell_type": "code",
   "id": "initial_id",
   "metadata": {
    "collapsed": true,
    "ExecuteTime": {
     "end_time": "2025-02-23T23:49:52.322695Z",
     "start_time": "2025-02-23T23:49:52.319587Z"
    }
   },
   "source": [
    "# [문제 1] 네이버 홈페이지에서 검색창에 'Selenium 자동화'\n",
    "# 입력 후 엔터 키를 누르는 코드를 작성하세요."
   ],
   "outputs": [],
   "execution_count": 4
  },
  {
   "metadata": {
    "ExecuteTime": {
     "end_time": "2025-02-23T23:50:00.340403Z",
     "start_time": "2025-02-23T23:49:52.332781Z"
    }
   },
   "cell_type": "code",
   "source": [
    "from selenium import webdriver\n",
    "import time\n",
    "from selenium.webdriver.common.keys import Keys\n",
    "\n",
    "driver = webdriver.Chrome()\n",
    "driver.get(\"https://www.naver.com\")\n",
    "time.sleep(3)\n",
    "\n",
    "search_box = driver.find_element(\"name\", \"query\")\n",
    "search_box.send_keys(\"Selenium 자동화\")\n",
    "search_box.send_keys(Keys.ENTER)\n",
    "time.sleep(3)\n",
    "driver.quit()\n",
    "\n"
   ],
   "id": "f7c0470c52c5c3f5",
   "outputs": [],
   "execution_count": 5
  },
  {
   "metadata": {
    "ExecuteTime": {
     "end_time": "2025-02-23T23:50:11.127773Z",
     "start_time": "2025-02-23T23:50:00.345049Z"
    }
   },
   "cell_type": "code",
   "source": [
    "# [문제 2] 네이버 홈페이지에서 '뉴스' 링크를 클릭하여\n",
    "# 뉴스 페이지로 이동하는 코드를 작성하세요.\n",
    "\n",
    "from selenium import webdriver\n",
    "import time\n",
    "from selenium.webdriver.common.keys import Keys\n",
    "from selenium.webdriver.common.by import By\n",
    "\n",
    "driver = webdriver.Chrome()\n",
    "driver.get(\"https://www.naver.com\")\n",
    "time.sleep(3)\n",
    "\n",
    "#뉴스 링크 클릭, CSS_SELECTOR 사용,\n",
    "news_link = driver.find_element(By.CSS_SELECTOR, \"a.link_service[href*='news']\")\n",
    "news_link.click()\n",
    "\n",
    "time.sleep(3)\n",
    "driver.quit()\n"
   ],
   "id": "6e13d2166042b640",
   "outputs": [],
   "execution_count": 6
  },
  {
   "metadata": {
    "ExecuteTime": {
     "end_time": "2025-02-23T23:50:18.398662Z",
     "start_time": "2025-02-23T23:50:11.133249Z"
    }
   },
   "cell_type": "code",
   "source": [
    "# [문제 3] 구글 검색에서 ' Selenium'을 검색한 후\n",
    "# 검색 결과 페이지의 HTML을 가져오는 코드를 작성하세요.\n",
    "from selenium import webdriver\n",
    "import time\n",
    "from selenium.webdriver.common.keys import Keys\n",
    "from selenium.webdriver.common.by import By\n",
    "\n",
    "driver = webdriver.Chrome()\n",
    "driver.get(\"https://www.google.com\")\n",
    "time.sleep(3)\n",
    "\n",
    "search_box = driver.find_element(\"name\", \"q\")\n",
    "search_box.send_keys(\"Selenium\")\n",
    "search_box.send_keys(Keys.ENTER)\n",
    "\n",
    "#검색 결과 페이지 HTML 가져오기.\n",
    "html = driver.page_source\n",
    "print(html[:5000])\n",
    "\n",
    "driver.quit()"
   ],
   "id": "806d4f9a6d7b7f37",
   "outputs": [
    {
     "name": "stdout",
     "output_type": "stream",
     "text": [
      "<html lang=\"ko\"><head><title>Google Search</title><style>body{background-color:var(--xhUGwc)}</style></head><body><noscript><style>table,div,span,p{display:none}</style><meta content=\"0;url=/httpservice/retry/enablejs?sei=OLS7Z7uiI-yO2roP143HgQc\" http-equiv=\"refresh\"><div style=\"display:block\">몇 초 안에 이동하지 않는 경우 <a href=\"/httpservice/retry/enablejs?sei=OLS7Z7uiI-yO2roP143HgQc\">여기</a>를 클릭하세요.</div></noscript><script nonce=\"\">//# sourceMappingURL=data:application/json;charset=utf-8;base64,eyJ2ZXJzaW9uIjogMywic291cmNlcyI6WyIiXSwic291cmNlc0NvbnRlbnQiOlsiICJdLCJuYW1lcyI6WyJjbG9zdXJlRHluYW1pY0J1dHRvbiJdLCJtYXBwaW5ncyI6IkFBQUE7QUFBQTtBQUFBO0FBQUE7QUFBQTtBQUFBO0FBQUEifQ==\n",
      "(function(){function S(Q){return Q}var C=this||self,k=function(Q){return S.call(this,Q)},y=function(Q,x,F,L,d,O,a,G,n,v,B,R){for(R=(v=L,F);;)try{if(v==49)break;else if(v==95)v=n&&n.createPolicy?83:63;else if(v==56)R=F,v=x;else{if(v==63)return G;if(v==83)R=Q,G=n.createPolicy(d,{createHTML:k,createScript:k,createScriptURL:k}),v=13;else if(v==58)C.console[a](B.message),v=13;else if(v==x)v=C.console?58:13;else{if(v==13)return R=F,G;v==L&&(G=O,n=C.trustedTypes,v=95)}}}catch(e){if(R==F)throw e;R==Q&&(B=e,v=56)}};(0,eval)(function(Q,x){return(x=y(55,71,69,96,\"ks\",null,\"error\"))&&Q.eval(x.createScript(\"1\"))===1?function(F){return x.createScript(F)}:function(F){return\"\"+F}}(C)(Array(Math.random()*7824|0).join(\"\\n\")+['//# sourceMappingURL=data:application/json;charset=utf-8;base64,eyJ2ZXJzaW9uIjogMywic291cmNlcyI6WyIiXSwic291cmNlc0NvbnRlbnQiOlsiICJdLCJuYW1lcyI6WyJjbG9zdXJlRHluYW1pY0J1dHRvbiJdLCJtYXBwaW5ncyI6IkFBQUE7QUFBQTtBQUFBO0FBQUE7QUFBQTtBQUFBO0FBQUEifQ==',\n",
      "'(function(){/*',\n",
      "'',\n",
      "' Copyright Google LLC',\n",
      "' SPDX-License-Identifier: Apache-2.0',\n",
      "'*/',\n",
      "'var w=function(Q,v,F,x,R,n,G,S,e,L,k){{k=96;while(k!=49)if(k==96)k=95;else if(k==71){if(R.G.length){((R.Gg&&\":TQR:TQR:\"(),R).Gg=true,R).UK=F;try{e=R.U(),R.Hv=0,R.nz=0,R.Rm=e,R.MF=e,S=Qw(9,true,254,null,\"~\",F,R),n=x?0:10,G=R.U()-R.Rm,R.mZ+=G,R.lK&&R.lK(G-R.D,R.Z,R.l,R.Hv),R.Z=false,R.D=0,R.l=false,G<n||R.Vo--<=0||(G=Math.floor(G),R.Kz.push(G<=Q?G:254))}finally{R.Gg=false}L=S}k=63}else{if(k==63)return L;k==56?(L=!!(x.Fq&F)&&!!(x.j&F)!=R&&(!(x.WR&F)||x.dispatchEvent(Fu(68,5,16,Q,8,1,F,R)))&&!x.B,k=13):k==13?k=v+1>>4?63:71:k==83?k=(v-1^25)>=v&&(v-3|6)<v?56:13:k==95?k=v-9>>3==2?55:83:k==55&&(n=o2(15,11,Q,F,x),(R=n>=0)&&Array.prototype.splice.call(F,n,Q),L=R,k=83)}}},Jn=function(Q,v,F,x,R,n,G,S,e,L,k,d,B,z){for(B=84;B!=32;)if(B==25)n+=8192,B=35;else if(B==8)B=G?52:86;else if(B==48)B=86;else if(B==41)B=x?24:47;else if(B==52)e=Jn(16,G),B=89;else if(B==15)B=8;else if(B==61)B=(Q<<2&11)<7&&(Q|7)>>4>=0?21:3;else if(B==84)B=74;else if(B==62)G=this.constructor,B=34;else if(B==0)this[this+\"\"]=this,B=31;else if(B==74)B=Q>>1>=-66&&(Q>>1&15)<2?45:51;else if(B==14)cs.call(this,x),B=38;else if(B==45){if(S=x.X.L[String(R)]){for(d=(S=S.concat(),k=0,v);k<S.length;++k)(e=S[k])&&!e.Qo&&e.capture==F&&(G=e.listener,L=e.wu||e.src,e.fz&&Zy(5,1,e,x.X),d=G.call(L,n)!==false&&d);z=d&&!n.defaultPrevented}else z=v;B=51}else if(B==6)R+=String.fromCharCode.apply(null,v.slice(n,n+8192)),B=25;else if(B==90)B=(Q-1^28)<Q&&(Q-7^21)>=Q?0:31;else if(B==86)S=n?typeof n.om===\"function\"?n.om():new n:null,B=98;else if(B==85)z=F,B=90;else if(B==34)B=8;else if(B==98)this.Y=S,B=61;else if(B==89)B=(n=wB[e])?48:76;else if(B==47)F=void 0,B=85;else if(B==24)R=\"\",n=0,B=94;else{if(B==31)return z;B==21?(z=Object.prototype.hasOwnProperty.call(v,EA)&&v[EA]||(v[EA]=++I2),B=3):B==94?B=35:B==76?(G=(R=Object.getPrototypeOf(G.prototype))&&R.constructor,B=15):B==56?(F=x(R).replace(/\\\\+/g,\"-\").replace(/\\\\//g,\"_\").replace(/=/g,\"\"),B=85):B==35?B=n<v.length?6:56:B==51?B=(Q^32)>>4<3&&(Q<<1&23)>=14?14:61:B==3?B=(Q+5&70)<Q&&(Q-6^14)>=Q?66:90:B==66?(x=window.btoa,B=41):B==38&&(B=(S=F)?98:62)}},Dy=function(Q,v,F,x,R,n,G,S,e){{S=34;while(S!=55)if(S==35)this.listener=x,this.proxy=null,this.src=n,this.type=R,this.capture=!!F,this.wu=G,this.key=++bl,this.Qo=this.fz=Q,S=53;else if(S==62)x=Math.floor(Math.random()*this.n),x<50&&(this.i[x]=F),S=82;else if(S==82)S=((v|3)&15)<7&&(v<<1&15)>=6?42:64;else if(S==64)S=(v+6&47)<v&&(v+9^16)>=v?48:11;else if(S==54)Ws.call(this,F,x||$t.om(),R),S=60;else if(S==34)S=75;else if(S==2)this.n++,S=10;else if(S==75)S=(v&30)==v?54:60;else if(S==11)S=(v^78)>>4?53:35;else if(S==48)this.N=F,S=11;else if(S==60)S=(v+5&59)>=v&&(v-3^4)<v?2:82;else if(S==10)S=this.i.length<50?51:62;else{if(S==53)return e;S==51?(this.i.push(F),S=82):S==42&&(Tf.call(this),this.X=new kt(this),this.Wv=null,this.j$=this,S=64)}}},h=function(Q,v,F,x,R,n,G,S,e,L,k,d){((F>>((F^44)>>3==1&&(k=d=function(){{var B=63;while(B!=34)if(B==92){var z=w(254,5,false,(fZ(0,a,28,x),false),x);B=28}else if(B==15){var C=!x.G.length;(fZ(0,a,26,x),C)&&w(254,3,false,false,x),B=28}else{if(B==28)return z;if(B==9)S&&e&&S.removeEventListener(e,d,mR),B=34;else if(B==5)B=x.P?3:9;else if(B==97)B=R==v?15:19;else if(B==36)B=R==Q?92:97;else if(B==19)z=M$(254,325,a,x),B=28;else if(B==63)B=x.N==x?5:34;else if(B==3)var a=[hn\n"
     ]
    }
   ],
   "execution_count": 7
  },
  {
   "metadata": {
    "ExecuteTime": {
     "end_time": "2025-02-23T23:50:18.409868Z",
     "start_time": "2025-02-23T23:50:18.407920Z"
    }
   },
   "cell_type": "code",
   "source": [
    "# [문제 4] 특정 웹사이트에서 버튼이 활성화될 때까지\n",
    "# 10초 동안 기다렸다가 클릭하는 코드를 작성하세요."
   ],
   "id": "437b0541c30362b6",
   "outputs": [],
   "execution_count": 8
  },
  {
   "metadata": {
    "ExecuteTime": {
     "end_time": "2025-02-23T23:50:27.847025Z",
     "start_time": "2025-02-23T23:50:18.415602Z"
    }
   },
   "cell_type": "code",
   "source": [
    "from selenium import webdriver\n",
    "from selenium.webdriver.common.by import By\n",
    "from selenium.webdriver.support.ui import WebDriverWait\n",
    "from selenium.webdriver.support import expected_conditions as EC\n",
    "import time\n",
    "\n",
    "# Chrome 드라이버 실행\n",
    "driver = webdriver.Chrome()\n",
    "driver.get(\"https://the-internet.herokuapp.com/dynamic_controls\")\n",
    "\n",
    "# 🔹 \"Enable\" 버튼 클릭 (텍스트 입력 필드를 활성화)\n",
    "enable_button = driver.find_element(By.XPATH, \"//button[text()='Enable']\")\n",
    "enable_button.click()\n",
    "\n",
    "# 🔹 입력 필드가 활성화될 때까지 최대 10초 대기\n",
    "input_field = WebDriverWait(driver, 10).until(\n",
    "    EC.element_to_be_clickable((By.XPATH, \"//input[@type='text']\"))\n",
    ")\n",
    "\n",
    "# 🔹 입력 필드에 텍스트 입력\n",
    "input_field.send_keys(\"테스트 입력 완료!\")\n",
    "\n",
    "print(\"✅ 버튼이 활성화되어 입력 필드에 입력 성공!\")\n",
    "\n",
    "time.sleep(3)  # 실행 결과 확인을 위해 대기\n",
    "driver.quit()\n",
    "\n",
    "driver.quit()"
   ],
   "id": "5a75f267e3e770b4",
   "outputs": [
    {
     "name": "stdout",
     "output_type": "stream",
     "text": [
      "✅ 버튼이 활성화되어 입력 필드에 입력 성공!\n"
     ]
    }
   ],
   "execution_count": 9
  },
  {
   "metadata": {
    "ExecuteTime": {
     "end_time": "2025-02-23T23:50:30.880019Z",
     "start_time": "2025-02-23T23:50:27.851740Z"
    }
   },
   "cell_type": "code",
   "source": [
    "# [문제 5]\n",
    "# 네이버에서 'Selenium 자동화' 검색 후,\n",
    "# 검색 결과 상위 5개의 제목을 출력하는 코드를 작성하세요.\n",
    "#\n",
    "\n",
    "from selenium import webdriver\n",
    "import time\n",
    "from selenium.webdriver.common.keys import Keys\n",
    "from selenium.webdriver.common.by import By\n",
    "from selenium.webdriver.support.ui import WebDriverWait\n",
    "from selenium.webdriver.support import expected_conditions as EC\n",
    "\n",
    "driver = webdriver.Chrome()\n",
    "driver.get(\"https://www.naver.com\")\n",
    "time.sleep(3)\n",
    "\n",
    "# 검색창 찾기.\n",
    "search_box = driver.find_element(\"name\", \"query\")\n",
    "search_box.send_keys(\"Selenium 자동화\")\n",
    "search_box.send_keys(Keys.ENTER)\n",
    "time.sleep(3)\n",
    "\n",
    "# 검색 결과 제목 가져오기 , 상위 5개만,\n",
    "titles = driver.find_elements(By.CSS_SELECTOR, \"a.news_tit\")[:5]\n",
    "print(\"검색 결과 상위 5개 : \", len(titles))\n",
    "for index, title in enumerate(titles):\n",
    "    print(f\"{index + 1}. {title.text}\")\n",
    "\n",
    "driver.quit()\n"
   ],
   "id": "b11dfe6708195944",
   "outputs": [
    {
     "ename": "KeyboardInterrupt",
     "evalue": "",
     "output_type": "error",
     "traceback": [
      "\u001B[0;31m---------------------------------------------------------------------------\u001B[0m",
      "\u001B[0;31mKeyboardInterrupt\u001B[0m                         Traceback (most recent call last)",
      "Cell \u001B[0;32mIn[10], line 15\u001B[0m\n\u001B[1;32m     13\u001B[0m driver \u001B[38;5;241m=\u001B[39m webdriver\u001B[38;5;241m.\u001B[39mChrome()\n\u001B[1;32m     14\u001B[0m driver\u001B[38;5;241m.\u001B[39mget(\u001B[38;5;124m\"\u001B[39m\u001B[38;5;124mhttps://www.naver.com\u001B[39m\u001B[38;5;124m\"\u001B[39m)\n\u001B[0;32m---> 15\u001B[0m \u001B[43mtime\u001B[49m\u001B[38;5;241;43m.\u001B[39;49m\u001B[43msleep\u001B[49m\u001B[43m(\u001B[49m\u001B[38;5;241;43m3\u001B[39;49m\u001B[43m)\u001B[49m\n\u001B[1;32m     17\u001B[0m \u001B[38;5;66;03m# 검색창 찾기.\u001B[39;00m\n\u001B[1;32m     18\u001B[0m search_box \u001B[38;5;241m=\u001B[39m driver\u001B[38;5;241m.\u001B[39mfind_element(\u001B[38;5;124m\"\u001B[39m\u001B[38;5;124mname\u001B[39m\u001B[38;5;124m\"\u001B[39m, \u001B[38;5;124m\"\u001B[39m\u001B[38;5;124mquery\u001B[39m\u001B[38;5;124m\"\u001B[39m)\n",
      "\u001B[0;31mKeyboardInterrupt\u001B[0m: "
     ]
    }
   ],
   "execution_count": 10
  },
  {
   "metadata": {
    "ExecuteTime": {
     "end_time": "2025-02-23T23:50:30.892504Z",
     "start_time": "2025-02-21T05:21:58.098343Z"
    }
   },
   "cell_type": "code",
   "source": [
    "# [문제 6]\n",
    "# https://news.google.com 이용해보기.\n",
    "# 무한 스크롤이 있는 웹사이트에서 특정 개수만큼\n",
    "# 스크롤을 내린 후 스크린샷을 저장하는 코드를 작성하세요.\n",
    "# (600px , 내리면서, 각각 화면 캡쳐하기)\n",
    "\n",
    "from selenium import webdriver\n",
    "import time\n",
    "from selenium.webdriver.common.keys import Keys\n",
    "from selenium.webdriver.common.by import By\n",
    "from selenium.webdriver.support.ui import WebDriverWait\n",
    "from selenium.webdriver.support import expected_conditions as EC\n",
    "\n",
    "driver = webdriver.Chrome()\n",
    "driver.get(\"https://news.google.com\")\n",
    "time.sleep(3)\n",
    "\n",
    "# 완전히 페이지 로드 될때까지 기다리 코드,\n",
    "WebDriverWait(driver, 10).until(\n",
    "    EC.presence_of_element_located((By.TAG_NAME, \"body\"))\n",
    ")\n",
    "\n",
    "# 주요 뉴스 버튼 , 요소 : class=\"aqvwYd\"\n",
    "try:\n",
    "    news_link = WebDriverWait(driver, 10).until(\n",
    "        EC.presence_of_element_located((By.CSS_SELECTOR, \"a.aqvwYd\"))\n",
    "    )\n",
    "    news_link.click()\n",
    "    print(\"주요 뉴스 링크 클릭함, \")\n",
    "    time.sleep(3)\n",
    "except:\n",
    "    print(\"주요 뉴스 버튼 링크가 없어요,\")\n",
    "\n",
    "#  600px 씩 스크롤 내려서, 캡쳐하기.\n",
    "scroll_count = 10\n",
    "for i in range(scroll_count):\n",
    "    #현재 화면 캡쳐\n",
    "    screenshot_path = f\"google_news_scroll_{i+1}.png\"\n",
    "    driver.save_screenshot(screenshot_path)\n",
    "    print(f\"{i+1}번째 화면 캡처 저장, : {screenshot_path} \")\n",
    "\n",
    "    #스크롤 내리기,\n",
    "    driver.execute_script(\"window.scrollBy(0, 600);\")\n",
    "    time.sleep(2)\n",
    "driver.quit()"
   ],
   "id": "39eb0d9b383aa5b2",
   "outputs": [
    {
     "name": "stdout",
     "output_type": "stream",
     "text": [
      "주요 뉴스 링크 클릭함, \n",
      "1번째 화면 캡처 저장, : google_news_scroll_1.png \n",
      "2번째 화면 캡처 저장, : google_news_scroll_2.png \n",
      "3번째 화면 캡처 저장, : google_news_scroll_3.png \n",
      "4번째 화면 캡처 저장, : google_news_scroll_4.png \n",
      "5번째 화면 캡처 저장, : google_news_scroll_5.png \n",
      "6번째 화면 캡처 저장, : google_news_scroll_6.png \n",
      "7번째 화면 캡처 저장, : google_news_scroll_7.png \n",
      "8번째 화면 캡처 저장, : google_news_scroll_8.png \n",
      "9번째 화면 캡처 저장, : google_news_scroll_9.png \n",
      "10번째 화면 캡처 저장, : google_news_scroll_10.png \n"
     ]
    }
   ],
   "execution_count": 7
  },
  {
   "metadata": {},
   "cell_type": "code",
   "outputs": [],
   "execution_count": null,
   "source": "",
   "id": "65695daa260b3230"
  }
 ],
 "metadata": {
  "kernelspec": {
   "display_name": "Python 3",
   "language": "python",
   "name": "python3"
  },
  "language_info": {
   "codemirror_mode": {
    "name": "ipython",
    "version": 2
   },
   "file_extension": ".py",
   "mimetype": "text/x-python",
   "name": "python",
   "nbconvert_exporter": "python",
   "pygments_lexer": "ipython2",
   "version": "2.7.6"
  }
 },
 "nbformat": 4,
 "nbformat_minor": 5
}
