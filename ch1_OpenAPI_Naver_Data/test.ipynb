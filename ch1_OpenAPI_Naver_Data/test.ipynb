{
 "cells": [
  {
   "cell_type": "code",
   "id": "initial_id",
   "metadata": {
    "collapsed": true,
    "ExecuteTime": {
     "end_time": "2025-02-19T07:59:24.944625Z",
     "start_time": "2025-02-19T07:59:24.701242Z"
    }
   },
   "source": [
    "import urllib.request\n",
    "import ssl  # SSL 모듈 추가\n",
    "\n",
    "# SSL 인증서 검증 비활성화 컨텍스트 생성\n",
    "context = ssl.create_default_context()\n",
    "context.check_hostname = False\n",
    "context.verify_mode = ssl.CERT_NONE\n",
    "\n",
    "# urlopen 호출 시 context 추가\n",
    "res = urllib.request.urlopen(\"https://www.naver.com/\", context=context)\n",
    "\n",
    "print(type(res))\n",
    "print(res.status)\n",
    "print(res.version)\n",
    "print(res.msg)\n",
    "\n",
    "res_header = res.getheaders()\n",
    "print(\"[ header 정보]----------\")\n",
    "for s in res_header:\n",
    "    print(s)"
   ],
   "outputs": [
    {
     "name": "stdout",
     "output_type": "stream",
     "text": [
      "<class 'http.client.HTTPResponse'>\n",
      "200\n",
      "11\n",
      "OK\n",
      "[ header 정보]----------\n",
      "('Content-Type', 'text/html; charset=UTF-8')\n",
      "('Cache-Control', 'no-cache, no-store, must-revalidate')\n",
      "('Pragma', 'no-cache')\n",
      "('x-frame-options', 'DENY')\n",
      "('x-xss-protection', '1; mode=block')\n",
      "('strict-transport-security', 'max-age=63072000; includeSubdomains')\n",
      "('referrer-policy', 'unsafe-url')\n",
      "('Server', 'nfront')\n",
      "('Vary', 'Accept-Encoding')\n",
      "('Date', 'Wed, 19 Feb 2025 07:59:25 GMT')\n",
      "('Transfer-Encoding', 'chunked')\n",
      "('Connection', 'close')\n",
      "('Connection', 'Transfer-Encoding')\n",
      "('Set-Cookie', 'PM_CK_loc=6a99d2fc1b5471d9d14cea36ec9cb8ccdffe959f69af8f291b9824dfdf3a7588; Expires=Thu, 20 Feb 2025 07:59:24 GMT; Path=/; HttpOnly')\n"
     ]
    }
   ],
   "execution_count": 1
  },
  {
   "metadata": {
    "ExecuteTime": {
     "end_time": "2025-02-19T07:59:26.356296Z",
     "start_time": "2025-02-19T07:59:24.954521Z"
    }
   },
   "cell_type": "code",
   "source": [
    "from urllib.request import urlopen\n",
    "html=urlopen(\"http://google.com\")\n",
    "print(html.read())"
   ],
   "id": "74f6cfb24bfe16e4",
   "outputs": [
    {
     "name": "stdout",
     "output_type": "stream",
     "text": [
      "b'<!doctype html><html itemscope=\"\" itemtype=\"http://schema.org/WebPage\" lang=\"ko\"><head><meta content=\"text/html; charset=UTF-8\" http-equiv=\"Content-Type\"><meta content=\"/images/branding/googleg/1x/googleg_standard_color_128dp.png\" itemprop=\"image\"><title>Google</title><script nonce=\"mXHGi5-bQdcfqt4sd10-hw\">(function(){var _g={kEI:\\'Xo-1Z-KRCcWHkvQP8P62oQI\\',kEXPI:\\'0,3700252,697,435,503816,34845,2872,2891,43028,46127,344796,212051,47082,30911,5241687,36812637,25228681,112222,10881,15165,8182,5935,11940,31554,21666,6758,23878,9140,4599,160,168,6225,34310,19334,6973,3548,1341,5329,6463,1915,8213,7422,14521,6781,33,9041,17667,10672,11738,9600,4488,3853,41,2956,2639,8044,1,4922,617,1202,4105,301,1343,9409,31,14969,2150,4614,5774,1201,3108,2372,1265,738,4799,3168,1350,9610,825,86,837,2,1920,478,2,55,2384,6695,2283,957,2460,794,8,42,416,1639,891,25,3431,211,503,1768,1275,55,1027,1,142,686,218,1,1331,2455,529,3281,570,1285,2286,22,1893,474,186,186,641,508,742,565,228,1960,2,206,354,305,351,388,139,3,2520,161,74,3,42,4,5,415,1363,7,4098,493,46,13,28,334,352,686,3,2,1,2,2,2,3,985,458,343,183,750,2529,11,1,366,771,2087,401,446,576,138,71,22,228,296,817,1071,510,414,239,847,382,1263,1054,139,191,73,391,48,10,208,2,166,309,19,8,59,402,229,671,501,729,355,1006,560,27,13,8,682,76,235,209,286,136,129,138,108,126,111,49,437,8,318,405,272,390,19,179,854,1507,3,1076,346,9,248,495,513,2459,20946828,404690,18,2010,43,536,1951,8,3873,12,3306,8020806\\',kBL:\\'5pK_\\',kOPI:89978449};(function(){var a;((a=window.google)==null?0:a.stvsc)?google.kEI=_g.kEI:window.google=_g;}).call(this);})();(function(){google.sn=\\'webhp\\';google.kHL=\\'ko\\';})();(function(){\\nvar g=this||self;function k(){return window.google&&window.google.kOPI||null};var l,m=[];function n(a){for(var b;a&&(!a.getAttribute||!(b=a.getAttribute(\"eid\")));)a=a.parentNode;return b||l}function p(a){for(var b=null;a&&(!a.getAttribute||!(b=a.getAttribute(\"leid\")));)a=a.parentNode;return b}function q(a){/^http:/i.test(a)&&window.location.protocol===\"https:\"&&(google.ml&&google.ml(Error(\"a\"),!1,{src:a,glmm:1}),a=\"\");return a}\\nfunction r(a,b,d,c,h){var e=\"\";b.search(\"&ei=\")===-1&&(e=\"&ei=\"+n(c),b.search(\"&lei=\")===-1&&(c=p(c))&&(e+=\"&lei=\"+c));var f=b.search(\"&cshid=\")===-1&&a!==\"slh\";c=\"&zx=\"+Date.now().toString();g._cshid&&f&&(c+=\"&cshid=\"+g._cshid);(d=d())&&(c+=\"&opi=\"+d);return\"/\"+(h||\"gen_204\")+\"?atyp=i&ct=\"+String(a)+\"&cad=\"+(b+e+c)};l=google.kEI;google.getEI=n;google.getLEI=p;google.ml=function(){return null};google.log=function(a,b,d,c,h,e){e=e===void 0?k:e;d||(d=r(a,b,e,c,h));if(d=q(d)){a=new Image;var f=m.length;m[f]=a;a.onerror=a.onload=a.onabort=function(){delete m[f]};a.src=d}};google.logUrl=function(a,b){b=b===void 0?k:b;return r(\"\",a,b)};}).call(this);(function(){google.y={};google.sy=[];var d;(d=google).x||(d.x=function(a,b){if(a)var c=a.id;else{do c=Math.random();while(google.y[c])}google.y[c]=[a,b];return!1});var e;(e=google).sx||(e.sx=function(a){google.sy.push(a)});google.lm=[];var f;(f=google).plm||(f.plm=function(a){google.lm.push.apply(google.lm,a)});google.lq=[];var g;(g=google).load||(g.load=function(a,b,c){google.lq.push([[a],b,c])});var h;(h=google).loadAll||(h.loadAll=function(a,b){google.lq.push([a,b])});google.bx=!1;var k;(k=google).lx||(k.lx=function(){});var l=[],m;(m=google).fce||(m.fce=function(a,b,c,n){l.push([a,b,c,n])});google.qce=l;}).call(this);google.f={};(function(){\\ndocument.documentElement.addEventListener(\"submit\",function(b){var a;if(a=b.target){var c=a.getAttribute(\"data-submitfalse\");a=c===\"1\"||c===\"q\"&&!a.elements.q.value?!0:!1}else a=!1;a&&(b.preventDefault(),b.stopPropagation())},!0);document.documentElement.addEventListener(\"click\",function(b){var a;a:{for(a=b.target;a&&a!==document.documentElement;a=a.parentElement)if(a.tagName===\"A\"){a=a.getAttribute(\"data-nohref\")===\"1\";break a}a=!1}a&&b.preventDefault()},!0);}).call(this);</script><style>#gbar,#guser{font-size:13px;padding-top:1px !important;}#gbar{height:22px}#guser{padding-bottom:7px !important;text-align:right}.gbh,.gbd{border-top:1px solid #c9d7f1;font-size:1px}.gbh{height:0;position:absolute;top:24px;width:100%}@media all{.gb1{height:22px;margin-right:.5em;vertical-align:top}#gbar{float:left}}a.gb1,a.gb4{text-decoration:underline !important}a.gb1,a.gb4{color:#00c !important}.gbi .gb4{color:#dd8e27 !important}.gbf .gb4{color:#900 !important}\\n</style><style>body,td,a,p,.h{font-family:&#44404;&#47548;,&#46027;&#50880;,sans-serif}.ko{font-size:9pt}body{margin:0;overflow-y:scroll}#gog{padding:3px 8px 0}td{line-height:.8em}.gac_m td{line-height:17px}form{margin-bottom:20px}.h{color:#1967d2}em{font-weight:bold;font-style:normal}.lst{height:25px;width:496px}.gsfi,.lst{font:18px sans-serif}.gsfs{font:17px sans-serif}.ds{display:inline-box;display:inline-block;margin:3px 0 4px;margin-left:4px}input{font-family:inherit}body{background:#fff;color:#000}a{color:#681da8;text-decoration:none}a:hover,a:active{text-decoration:underline}.fl a{color:#1967d2}a:visited{color:#681da8}.sblc{padding-top:5px}.sblc a{display:block;margin:2px 0;margin-left:13px;font-size:11px}.lsbb{background:#f8f9fa;border:solid 1px;border-color:#dadce0 #70757a #70757a #dadce0;height:30px}.lsbb{display:block}#WqQANb a{display:inline-block;margin:0 12px}.lsb{background:url(/images/nav_logo229.png) 0 -261px repeat-x;color:#000;border:none;cursor:pointer;height:30px;margin:0;outline:0;font:15px sans-serif;vertical-align:top}.lsb:active{background:#dadce0}.lst:focus{outline:none}.Ucigb{width:458px}</style><script nonce=\"mXHGi5-bQdcfqt4sd10-hw\">(function(){window.google.erd={jsr:1,bv:2169,de:true,dpf:\\'a58V4WKhzT6MpjA_FddZk8_yLbOA9_nabiJ9xF24wy0\\'};\\nvar g=this||self;var k,l=(k=g.mei)!=null?k:1,m,p=(m=g.diel)!=null?m:0,q,r=(q=g.sdo)!=null?q:!0,t=0,u,w=google.erd,x=w.jsr;google.ml=function(a,b,d,n,e){e=e===void 0?2:e;b&&(u=a&&a.message);d===void 0&&(d={});d.cad=\"ple_\"+google.ple+\".aple_\"+google.aple;if(google.dl)return google.dl(a,e,d,!0),null;b=d;if(x<0){window.console&&console.error(a,b);if(x===-2)throw a;b=!1}else b=!a||!a.message||a.message===\"Error loading script\"||t>=l&&!n?!1:!0;if(!b)return null;t++;d=d||{};b=encodeURIComponent;var c=\"/gen_204?atyp=i&ei=\"+b(google.kEI);google.kEXPI&&(c+=\"&jexpid=\"+b(google.kEXPI));c+=\"&srcpg=\"+b(google.sn)+\"&jsr=\"+b(w.jsr)+\\n\"&bver=\"+b(w.bv);w.dpf&&(c+=\"&dpf=\"+b(w.dpf));var f=a.lineNumber;f!==void 0&&(c+=\"&line=\"+f);var h=a.fileName;h&&(h.indexOf(\"-extension:/\")>0&&(e=3),c+=\"&script=\"+b(h),f&&h===window.location.href&&(f=document.documentElement.outerHTML.split(\"\\\\n\")[f],c+=\"&cad=\"+b(f?f.substring(0,300):\"No script found.\")));google.ple&&google.ple===1&&(e=2);c+=\"&jsel=\"+e;for(var v in d)c+=\"&\",c+=b(v),c+=\"=\",c+=b(d[v]);c=c+\"&emsg=\"+b(a.name+\": \"+a.message);c=c+\"&jsst=\"+b(a.stack||\"N/A\");c.length>=12288&&(c=c.substr(0,12288));a=c;n||google.log(0,\"\",a);return a};window.onerror=function(a,b,d,n,e){u!==a&&(a=e instanceof Error?e:Error(a),d===void 0||\"lineNumber\"in a||(a.lineNumber=d),b===void 0||\"fileName\"in a||(a.fileName=b),google.ml(a,!1,void 0,!1,a.name===\"SyntaxError\"||a.message.substring(0,11)===\"SyntaxError\"||a.message.indexOf(\"Script error\")!==-1?3:p));u=null;r&&t>=l&&(window.onerror=null)};})();</script></head><body bgcolor=\"#fff\"><script nonce=\"mXHGi5-bQdcfqt4sd10-hw\">(function(){var src=\\'/images/nav_logo229.png\\';var iesg=false;document.body.onload = function(){window.n && window.n();if (document.images){new Image().src=src;}\\nif (!iesg){document.f&&document.f.q.focus();document.gbqf&&document.gbqf.q.focus();}\\n}\\n})();</script><div id=\"mngb\"><div id=gbar><nobr><b class=gb1>&#44160;&#49353;</b> <a class=gb1 href=\"https://www.google.com/imghp?hl=ko&tab=wi\">&#51060;&#48120;&#51648;</a> <a class=gb1 href=\"http://maps.google.co.kr/maps?hl=ko&tab=wl\">&#51648;&#46020;</a> <a class=gb1 href=\"https://play.google.com/?hl=ko&tab=w8\">Play</a> <a class=gb1 href=\"https://www.youtube.com/?tab=w1\">YouTube</a> <a class=gb1 href=\"https://news.google.com/?tab=wn\">&#45684;&#49828;</a> <a class=gb1 href=\"https://mail.google.com/mail/?tab=wm\">Gmail</a> <a class=gb1 href=\"https://drive.google.com/?tab=wo\">&#46300;&#46972;&#51060;&#48652;</a> <a class=gb1 style=\"text-decoration:none\" href=\"https://www.google.co.kr/intl/ko/about/products?tab=wh\"><u>&#45908;&#48372;&#44592;</u> &raquo;</a></nobr></div><div id=guser width=100%><nobr><span id=gbn class=gbi></span><span id=gbf class=gbf></span><span id=gbe></span><a href=\"http://www.google.co.kr/history/optout?hl=ko\" class=gb4>&#50937; &#44592;&#47197;</a> | <a  href=\"/preferences?hl=ko\" class=gb4>&#49444;&#51221;</a> | <a target=_top id=gb_70 href=\"https://accounts.google.com/ServiceLogin?hl=ko&passive=true&continue=http://www.google.com/&ec=GAZAAQ\" class=gb4>&#47196;&#44536;&#51064;</a></nobr></div><div class=gbh style=left:0></div><div class=gbh style=right:0></div></div><center><br clear=\"all\" id=\"lgpd\"><div id=\"XjhHGf\"><img alt=\"Google\" height=\"92\" src=\"/images/branding/googlelogo/1x/googlelogo_white_background_color_272x92dp.png\" style=\"padding:28px 0 14px\" width=\"272\" id=\"hplogo\"><br><br></div><form action=\"/search\" name=\"f\"><table cellpadding=\"0\" cellspacing=\"0\"><tr valign=\"top\"><td width=\"25%\">&nbsp;</td><td align=\"center\" nowrap=\"\"><input name=\"ie\" value=\"ISO-8859-1\" type=\"hidden\"><input value=\"ko\" name=\"hl\" type=\"hidden\"><input name=\"source\" type=\"hidden\" value=\"hp\"><input name=\"biw\" type=\"hidden\"><input name=\"bih\" type=\"hidden\"><div class=\"ds\" style=\"height:32px;margin:4px 0\"><div style=\"position:relative;zoom:1\"><input class=\"lst Ucigb\" style=\"margin:0;padding:5px 8px 0 6px;vertical-align:top;color:#000;padding-right:38px\" autocomplete=\"off\" value=\"\" title=\"Google &#44160;&#49353;\" maxlength=\"2048\" name=\"q\" size=\"57\"><img src=\"/textinputassistant/tia.png\" style=\"position:absolute;cursor:pointer;right:5px;top:4px;z-index:300\" data-script-url=\"/textinputassistant/13/ko_tia.js\" id=\"tsuid_Xo-1Z-KRCcWHkvQP8P62oQI_1\" alt=\"\" height=\"23\" width=\"27\"><script nonce=\"mXHGi5-bQdcfqt4sd10-hw\">(function(){var id=\\'tsuid_Xo-1Z-KRCcWHkvQP8P62oQI_1\\';document.getElementById(id).onclick = function(){var s = document.createElement(\\'script\\');s.src = this.getAttribute(\\'data-script-url\\');document.body.appendChild(s);};})();</script></div></div><br style=\"line-height:0\"><span class=\"ds\"><span class=\"lsbb\"><input class=\"lsb\" value=\"Google &#44160;&#49353;\" name=\"btnG\" type=\"submit\"></span></span><span class=\"ds\"><span class=\"lsbb\"><input class=\"lsb\" id=\"tsuid_Xo-1Z-KRCcWHkvQP8P62oQI_2\" value=\"I&#8217;m Feeling Lucky\" name=\"btnI\" type=\"submit\"><script nonce=\"mXHGi5-bQdcfqt4sd10-hw\">(function(){var id=\\'tsuid_Xo-1Z-KRCcWHkvQP8P62oQI_2\\';document.getElementById(id).onclick = function(){if (this.form.q.value){this.checked = 1;if (this.form.iflsig)this.form.iflsig.disabled = false;}\\nelse top.location=\\'/doodles/\\';};})();</script><input value=\"ACkRmUkAAAAAZ7WdbgFTOo7FCQMHYra3knYDvIsMwGF3\" name=\"iflsig\" type=\"hidden\"></span></span></td><td class=\"fl sblc\" align=\"left\" nowrap=\"\" width=\"25%\"><a href=\"/advanced_search?hl=ko&amp;authuser=0\">&#44256;&#44553;&#44160;&#49353;</a></td></tr></table><input id=\"gbv\" name=\"gbv\" type=\"hidden\" value=\"1\"><script nonce=\"mXHGi5-bQdcfqt4sd10-hw\">(function(){var a,b=\"1\";if(document&&document.getElementById)if(typeof XMLHttpRequest!=\"undefined\")b=\"2\";else if(typeof ActiveXObject!=\"undefined\"){var c,d,e=[\"MSXML2.XMLHTTP.6.0\",\"MSXML2.XMLHTTP.3.0\",\"MSXML2.XMLHTTP\",\"Microsoft.XMLHTTP\"];for(c=0;d=e[c++];)try{new ActiveXObject(d),b=\"2\"}catch(h){}}a=b;if(a==\"2\"&&location.search.indexOf(\"&gbv=2\")==-1){var f=google.gbvu,g=document.getElementById(\"gbv\");g&&(g.value=a);f&&window.setTimeout(function(){location.href=f},0)};}).call(this);</script></form><div style=\"font-size:83%;min-height:3.5em\"><br></div><span id=\"footer\"><div style=\"font-size:10pt\"><div style=\"margin:19px auto;text-align:center\" id=\"WqQANb\"><a href=\"/intl/ko/ads/\">&#44305;&#44256;</a><a href=\"http://www.google.co.kr/intl/ko/services/\">&#48708;&#51592;&#45768;&#49828; &#49556;&#47336;&#49496;</a><a href=\"/intl/ko/about.html\">Google &#51221;&#48372;</a><a href=\"http://www.google.com/setprefdomain?prefdom=KR&amp;prev=http://www.google.co.kr/&amp;sig=K_TMCQTOQxa3P7SCGj2AjJlh1GLz0%3D\">Google.co.kr</a></div></div><p style=\"font-size:8pt;color:#70757a\">&copy; 2025 - <a href=\"/intl/ko/policies/privacy/\">&#44060;&#51064;&#51221;&#48372;&#52376;&#47532;&#48169;&#52840;</a> - <a href=\"/intl/ko/policies/terms/\">&#50557;&#44288;</a></p></span></center><script nonce=\"mXHGi5-bQdcfqt4sd10-hw\">(function(){window.google.cdo={height:757,width:1440};(function(){var a=window.innerWidth,b=window.innerHeight;if(!a||!b){var c=window.document,d=c.compatMode==\"CSS1Compat\"?c.documentElement:c.body;a=d.clientWidth;b=d.clientHeight}if(a&&b&&(a!=google.cdo.width||b!=google.cdo.height)){var e=google,f=e.log,g=\"/client_204?&atyp=i&biw=\"+a+\"&bih=\"+b+\"&ei=\"+google.kEI,h=\"\",k=window.google&&window.google.kOPI||null;k&&(h+=\"&opi=\"+k);f.call(e,\"\",\"\",g+h)};}).call(this);})();</script>   <script nonce=\"mXHGi5-bQdcfqt4sd10-hw\">(function(){google.xjs={basecomb:\\'/xjs/_/js/k\\\\x3dxjs.hp.en.1E4_L0Wpqdw.es5.O/ck\\\\x3dxjs.hp.LfFrKmv_VCU.L.X.O/am\\\\x3dBAAAAAAAAAEAAAAAAAAAAAAAAAAAAAAAAAAAAAAAAAAAgCAAAAAAAAAAAOAAANMAAAAIACBAAAAAAAAAAAAAAACQAEAUABAAAAAA4jsCAAGwCAAALw/d\\\\x3d1/ed\\\\x3d1/dg\\\\x3d0/ujg\\\\x3d1/rs\\\\x3dACT90oE2xiPkIAHO9wxIKeKGLR21-Kx-Jw\\',basecss:\\'/xjs/_/ss/k\\\\x3dxjs.hp.LfFrKmv_VCU.L.X.O/am\\\\x3dBAAAAAAAAAEAAAAAAAAAAAAAAAAAAAAAAAAAAAAAAAAAACAAAAAAAAAAAAAAABMAAAAIACBAAAAAAAAAAAAAAACQAEAUABA/rs\\\\x3dACT90oFBhhIVQ3taXEqZmH0JzlCLk0gyxw\\',basejs:\\'/xjs/_/js/k\\\\x3dxjs.hp.en.1E4_L0Wpqdw.es5.O/am\\\\x3dAAAAAAAAAAAAAAAAAAAAAAAAAAAAAAAAAAAAAAAAAAAAgAAAAAAAAAAAAOAAAMAAAAAAAAAAAAAAAAAAAAAAAAAAAAAAAAAAAAAA4jsCAAGwCAAALw/dg\\\\x3d0/rs\\\\x3dACT90oFBQKP-BS8XCpUyJi7-v8B3BUrPtA\\',excm:[]};})();</script>        <script nonce=\"mXHGi5-bQdcfqt4sd10-hw\">(function(){var u=\\'/xjs/_/js/k\\\\x3dxjs.hp.en.1E4_L0Wpqdw.es5.O/am\\\\x3dAAAAAAAAAAAAAAAAAAAAAAAAAAAAAAAAAAAAAAAAAAAAgAAAAAAAAAAAAOAAAMAAAAAAAAAAAAAAAAAAAAAAAAAAAAAAAAAAAAAA4jsCAAGwCAAALw/d\\\\x3d1/ed\\\\x3d1/dg\\\\x3d3/rs\\\\x3dACT90oFBQKP-BS8XCpUyJi7-v8B3BUrPtA/m\\\\x3dsb_he,d\\';var st=1;var amd=1000;var mmd=0;var pod=true;var fp=\\'\\';\\nvar e=this||self;function f(){var a,b,d;if(b=a=(b=window.google)==null?void 0:(d=b.ia)==null?void 0:d.r.B2Jtyd)b=a.m,b=b===1||b===5;return b&&a.cbfd!=null&&a.cbvi!=null?a:void 0};function g(){var a=[u];if(!google.dp){for(var b=0;b<a.length;b++){var d=a[b],c=document.createElement(\"link\");c.as=\"script\";c.href=d;c.rel=\"preload\";document.body.appendChild(c)}google.dp=!0}};google.ps===void 0&&(google.ps=[]);function h(){var a=u,b=function(){};google.lx=google.stvsc?b:function(){k(a);google.lx=b};google.bx||google.lx()}function l(a,b){b&&(a.src=b);fp&&(a.fetchPriority=fp);var d=a.onload;a.onload=function(c){d&&d(c);google.ps=google.ps.filter(function(C){return a!==C})};google.ps.push(a);document.body.appendChild(a)}google.as=l;function k(a){google.timers&&google.timers.load&&google.tick&&google.tick(\"load\",\"xjsls\");var b=document.createElement(\"script\");b.onerror=function(){google.ple=1};b.onload=function(){google.ple=0};google.xjsus=void 0;l(b,a);google.aple=-1;google.dp=!0};function m(a){var b=a.getAttribute(\"jscontroller\");return(b===\"UBXHI\"||b===\"R3fhkb\"||b===\"TSZEqd\")&&a.hasAttribute(\"data-src\")}function n(){for(var a=document.getElementsByTagName(\"img\"),b=0,d=a.length;b<d;b++){var c=a[b];if(c.hasAttribute(\"data-lzy_\")&&Number(c.getAttribute(\"data-atf\"))&1&&!m(c))return!0}return!1}for(var p=document.getElementsByTagName(\"img\"),q=0,r=p.length;q<r;++q){var t=p[q];Number(t.getAttribute(\"data-atf\"))&1&&m(t)&&(t.src=t.getAttribute(\"data-src\"))};var w,x,y,z,A,B;function D(){google.xjsu=u;e._F_jsUrl=u;A=function(){h()};w=!1;x=(st===1||st===3)&&!!google.caft&&!n();y=f();z=(st===2||st===3)&&!!y&&!n();B=pod}function E(){w||x||z||(A(),w=!0)}setTimeout(function(){google&&google.tick&&google.timers&&google.timers.load&&google.tick(\"load\",\"xjspls\");D();if(x||z){if(x){var a=function(){x=!1;E()};google.caft(a);window.setTimeout(a,amd)}z&&(a=function(){z=!1;E()},y.cbvi.push(a),window.setTimeout(a,mmd));B&&(w||g())}else A()},0);})();window._ = window._ || {};window._DumpException = _._DumpException = function(e){throw e;};window._s = window._s || {};_s._DumpException = _._DumpException;window._qs = window._qs || {};_qs._DumpException = _._DumpException;(function(){var t=[4,67108864,0,0,0,0,0,0,0,130,16777216,3735552,41997062,73728,1026,4,0,147456,16777540,0,146402,2277892,192512];window._F_toggles = window._xjs_toggles = t;})();window._F_installCss = window._F_installCss || function(css){};(function(){google.jl={bfl:0,dw:false,ine:false,ubm:false,uwp:true,vs:false};})();(function(){var pmc=\\'{\\\\x22d\\\\x22:{},\\\\x22sb_he\\\\x22:{\\\\x22agen\\\\x22:false,\\\\x22cgen\\\\x22:false,\\\\x22client\\\\x22:\\\\x22heirloom-hp\\\\x22,\\\\x22dh\\\\x22:true,\\\\x22ds\\\\x22:\\\\x22\\\\x22,\\\\x22fl\\\\x22:true,\\\\x22host\\\\x22:\\\\x22google.com\\\\x22,\\\\x22jsonp\\\\x22:true,\\\\x22msgs\\\\x22:{\\\\x22cibl\\\\x22:\\\\x22\\\\\\\\uac80\\\\\\\\uc0c9\\\\\\\\uc5b4 \\\\\\\\uc9c0\\\\\\\\uc6b0\\\\\\\\uae30\\\\x22,\\\\x22dym\\\\x22:\\\\x22\\\\\\\\uc774\\\\\\\\uac83\\\\\\\\uc744 \\\\\\\\ucc3e\\\\\\\\uc73c\\\\\\\\uc168\\\\\\\\ub098\\\\\\\\uc694?\\\\x22,\\\\x22lcky\\\\x22:\\\\x22I\\\\\\\\u2019m Feeling Lucky\\\\x22,\\\\x22lml\\\\x22:\\\\x22\\\\\\\\uc790\\\\\\\\uc138\\\\\\\\ud788 \\\\\\\\uc54c\\\\\\\\uc544\\\\\\\\ubcf4\\\\\\\\uae30\\\\x22,\\\\x22psrc\\\\x22:\\\\x22\\\\\\\\uac80\\\\\\\\uc0c9\\\\\\\\uc5b4\\\\\\\\uac00 \\\\\\\\u003Ca href\\\\x3d\\\\\\\\\\\\x22/history\\\\\\\\\\\\x22\\\\\\\\u003E\\\\\\\\uc6f9 \\\\\\\\uae30\\\\\\\\ub85d\\\\\\\\u003C/a\\\\\\\\u003E\\\\\\\\uc5d0\\\\\\\\uc11c \\\\\\\\uc0ad\\\\\\\\uc81c\\\\\\\\ub418\\\\\\\\uc5c8\\\\\\\\uc2b5\\\\\\\\ub2c8\\\\\\\\ub2e4.\\\\x22,\\\\x22psrl\\\\x22:\\\\x22\\\\\\\\uc0ad\\\\\\\\uc81c\\\\x22,\\\\x22sbit\\\\x22:\\\\x22\\\\\\\\uc774\\\\\\\\ubbf8\\\\\\\\uc9c0\\\\\\\\ub85c \\\\\\\\uac80\\\\\\\\uc0c9\\\\x22,\\\\x22srch\\\\x22:\\\\x22Google \\\\\\\\uac80\\\\\\\\uc0c9\\\\x22},\\\\x22ovr\\\\x22:{},\\\\x22pq\\\\x22:\\\\x22\\\\x22,\\\\x22rfs\\\\x22:[],\\\\x22stok\\\\x22:\\\\x22dUnFLrEUrG2NHFF0z6pcrtBVlbY\\\\x22}}\\';google.pmc=JSON.parse(pmc);})();(function(){var b=function(a){var c=0;return function(){return c<a.length?{done:!1,value:a[c++]}:{done:!0}}};\\nvar e=this||self;var g,h;a:{for(var k=[\"CLOSURE_FLAGS\"],l=e,n=0;n<k.length;n++)if(l=l[k[n]],l==null){h=null;break a}h=l}var p=h&&h[610401301];g=p!=null?p:!1;var q,r=e.navigator;q=r?r.userAgentData||null:null;function t(a){return g?q?q.brands.some(function(c){return(c=c.brand)&&c.indexOf(a)!=-1}):!1:!1}function u(a){var c;a:{if(c=e.navigator)if(c=c.userAgent)break a;c=\"\"}return c.indexOf(a)!=-1};function v(){return g?!!q&&q.brands.length>0:!1}function w(){return u(\"Safari\")&&!(x()||(v()?0:u(\"Coast\"))||(v()?0:u(\"Opera\"))||(v()?0:u(\"Edge\"))||(v()?t(\"Microsoft Edge\"):u(\"Edg/\"))||(v()?t(\"Opera\"):u(\"OPR\"))||u(\"Firefox\")||u(\"FxiOS\")||u(\"Silk\")||u(\"Android\"))}function x(){return v()?t(\"Chromium\"):(u(\"Chrome\")||u(\"CriOS\"))&&!(v()?0:u(\"Edge\"))||u(\"Silk\")}function y(){return u(\"Android\")&&!(x()||u(\"Firefox\")||u(\"FxiOS\")||(v()?0:u(\"Opera\"))||u(\"Silk\"))};var z=v()?!1:u(\"Trident\")||u(\"MSIE\");y();x();w();var A=!z&&!w();function D(a){if(/-[a-z]/.test(\"ved\"))return null;if(A&&a.dataset){if(y()&&!(\"ved\"in a.dataset))return null;a=a.dataset.ved;return a===void 0?null:a}return a.getAttribute(\"data-\"+\"ved\".replace(/([A-Z])/g,\"-$1\").toLowerCase())};var E=[],F=null;function G(a){a=a.target;var c=performance.now(),f=[],H=f.concat,d=E;if(!(d instanceof Array)){var m=typeof Symbol!=\"undefined\"&&Symbol.iterator&&d[Symbol.iterator];if(m)d=m.call(d);else if(typeof d.length==\"number\")d={next:b(d)};else throw Error(\"b`\"+String(d));for(var B=[];!(m=d.next()).done;)B.push(m.value);d=B}E=H.call(f,d,[c]);if(a&&a instanceof HTMLElement)if(a===F){if(c=E.length>=4)c=(E[E.length-1]-E[E.length-4])/1E3<5;if(c){c=google.getEI(a);a.hasAttribute(\"data-ved\")?f=a?D(a)||\"\":\"\":f=(f=\\na.closest(\"[data-ved]\"))?D(f)||\"\":\"\";f=f||\"\";if(a.hasAttribute(\"jsname\"))a=a.getAttribute(\"jsname\");else{var C;a=(C=a.closest(\"[jsname]\"))==null?void 0:C.getAttribute(\"jsname\")}google.log(\"rcm\",\"&ei=\"+c+\"&tgtved=\"+f+\"&jsname=\"+(a||\"\"))}}else F=a,E=[c]}window.document.addEventListener(\"DOMContentLoaded\",function(){document.body.addEventListener(\"click\",G)});}).call(this);</script></body></html>'\n"
     ]
    }
   ],
   "execution_count": 2
  },
  {
   "metadata": {
    "ExecuteTime": {
     "end_time": "2025-02-19T07:59:26.597299Z",
     "start_time": "2025-02-19T07:59:26.427865Z"
    }
   },
   "cell_type": "code",
   "source": [
    "import os\n",
    "import sys\n",
    "import urllib.request\n",
    "import ssl  # SSL 모듈 추가\n",
    "import os\n",
    "from dotenv import load_dotenv\n",
    "\n",
    "load_dotenv()\n",
    "client_id = os.getenv('CLIENT_ID')\n",
    "client_secret = os.getenv('CLIENT_SECRET')\n",
    "\n",
    "# 검색어 인코딩\n",
    "encText = urllib.parse.quote(\"애플\")\n",
    "url = \"https://openapi.naver.com/v1/search/news?query=\" + encText  # JSON 결과\n",
    "\n",
    "# SSL 인증서 검증 비활성화 컨텍스트 생성\n",
    "context = ssl.create_default_context()\n",
    "context.check_hostname = False\n",
    "context.verify_mode = ssl.CERT_NONE\n",
    "\n",
    "# 요청 생성\n",
    "request = urllib.request.Request(url)\n",
    "request.add_header(\"X-Naver-Client-Id\", client_id)\n",
    "request.add_header(\"X-Naver-Client-Secret\", client_secret)\n",
    "\n",
    "# API 호출 (SSL 컨텍스트 적용)\n",
    "response = urllib.request.urlopen(request, context=context)\n",
    "rescode = response.getcode()\n",
    "\n",
    "# 응답 처리\n",
    "if rescode == 200:\n",
    "    response_body = response.read()\n",
    "    print(response_body.decode('utf-8'))\n",
    "else:\n",
    "    print(\"Error Code:\", rescode)"
   ],
   "id": "2e4be373942e3226",
   "outputs": [
    {
     "name": "stdout",
     "output_type": "stream",
     "text": [
      "{\n",
      "\t\"lastBuildDate\":\"Wed, 19 Feb 2025 16:59:26 +0900\",\n",
      "\t\"total\":1614890,\n",
      "\t\"start\":1,\n",
      "\t\"display\":10,\n",
      "\t\"items\":[\n",
      "\t\t{\n",
      "\t\t\t\"title\":\"이복현 &quot;우리금융 흔들려선 안돼...임종룡 임기 채워야&quot;\",\n",
      "\t\t\t\"originallink\":\"https:\\/\\/www.delighti.co.kr\\/news\\/articleView.html?idxno=92313\",\n",
      "\t\t\t\"link\":\"https:\\/\\/www.delighti.co.kr\\/news\\/articleView.html?idxno=92313\",\n",
      "\t\t\t\"description\":\"<b>애플<\\/b>페이 확장으로 삼성페이에서도 수수료가 발생할 수 있다는 관측과 관련해서는 &quot;자체 시뮬레이션 결과 추가적인 수수료 부담들이 소비자나 가맹점에 피해를 줄 정도가 아닌 카드사가 흡수할 수 있을 정도의 규모로... \",\n",
      "\t\t\t\"pubDate\":\"Wed, 19 Feb 2025 16:58:00 +0900\"\n",
      "\t\t},\n",
      "\t\t{\n",
      "\t\t\t\"title\":\"포항시, K-브랜드 어워즈 '디지털융합혁신도시' 부문 수상\",\n",
      "\t\t\t\"originallink\":\"http:\\/\\/www.segye.com\\/newsView\\/20250219518857?OutUrl=naver\",\n",
      "\t\t\t\"link\":\"https:\\/\\/n.news.naver.com\\/mnews\\/article\\/022\\/0004012373?sid=102\",\n",
      "\t\t\t\"description\":\"포스텍, 한국로봇융합연구원, <b>애플<\\/b>R&amp;D지원센터 등 우수한 산학 연구인프라로 연 1000여 명 이상의 우수 인재를 배출해 디지털·AI 산업이 성장할 수 있는 최적의 요건을 갖춘 점도 인정받았다. 시는 대학과 기업... \",\n",
      "\t\t\t\"pubDate\":\"Wed, 19 Feb 2025 16:58:00 +0900\"\n",
      "\t\t},\n",
      "\t\t{\n",
      "\t\t\t\"title\":\"아이폰-갤럭시, 문자로 대용량 파일 전송 가능…“올 하반기 RCS 도입”\",\n",
      "\t\t\t\"originallink\":\"https:\\/\\/www.kukinews.com\\/article\\/view\\/kuk202502190181\",\n",
      "\t\t\t\"link\":\"https:\\/\\/www.kukinews.com\\/article\\/view\\/kuk202502190181\",\n",
      "\t\t\t\"description\":\"<b>애플<\\/b>의 아이폰에도 안드로이드 스마트폰과 같은 ‘차세대 메시지 전송 서비스(RCS)’가 도입돼 대용량 파일 전송 및 채팅 형식의 메시지 주고받기가 가능해진다. 방송통신위원회는 <b>애플<\\/b>의 아이폰도 기존 문자 메시지를... \",\n",
      "\t\t\t\"pubDate\":\"Wed, 19 Feb 2025 16:56:00 +0900\"\n",
      "\t\t},\n",
      "\t\t{\n",
      "\t\t\t\"title\":\"컴투스 신작 ‘서머너즈 워: 러쉬‘ 태국 RPG 인기 1위 등 강타\",\n",
      "\t\t\t\"originallink\":\"http:\\/\\/www.dizzotv.com\\/site\\/data\\/html_dir\\/2025\\/02\\/19\\/2025021980228.html\",\n",
      "\t\t\t\"link\":\"http:\\/\\/www.dizzotv.com\\/site\\/data\\/html_dir\\/2025\\/02\\/19\\/2025021980228.html\",\n",
      "\t\t\t\"description\":\"지난 12일(한국 시간 기준) 태국 구글과 <b>애플<\\/b> 앱 마켓에 선론칭한 ‘서머너즈 워: 러쉬’는 출시 직후 <b>애플<\\/b> 앱스토어 인기 순위 전체 게임 4위, 전략 게임 부문 1위를 기록한 데 이어, 구글 플레이스토어에서도 전체 게임... \",\n",
      "\t\t\t\"pubDate\":\"Wed, 19 Feb 2025 16:54:00 +0900\"\n",
      "\t\t},\n",
      "\t\t{\n",
      "\t\t\t\"title\":\"D-1, '레전드 오브 이미르' 사전 다운로드 시작\",\n",
      "\t\t\t\"originallink\":\"http:\\/\\/news.bizwatch.co.kr\\/article\\/mobile\\/2025\\/02\\/19\\/0043\",\n",
      "\t\t\t\"link\":\"https:\\/\\/n.news.naver.com\\/mnews\\/article\\/648\\/0000033596?sid=105\",\n",
      "\t\t\t\"description\":\"수동 플레이 '사가' 등 MMORPG의 다양한 콘텐츠를 즐길 수 있도록 했다. 레전드 오브 이미르는 구글 플레이, <b>애플<\\/b> 앱스토어에서 PC와 모바일 버전을 미리 내려받을 수 있으며, 오는 20일 정오부터 정식 서비스를 시작한다.\",\n",
      "\t\t\t\"pubDate\":\"Wed, 19 Feb 2025 16:54:00 +0900\"\n",
      "\t\t},\n",
      "\t\t{\n",
      "\t\t\t\"title\":\"아마존, ‘알렉사 AI’ 출시 3월 이후로 또 연기... 정확도 높이기 '진통...\",\n",
      "\t\t\t\"originallink\":\"https:\\/\\/zdnet.co.kr\\/view\\/?no=20250219165245\",\n",
      "\t\t\t\"link\":\"https:\\/\\/n.news.naver.com\\/mnews\\/article\\/092\\/0002363814?sid=105\",\n",
      "\t\t\t\"description\":\"<b>애플<\\/b>(Apple)도 지난달 뉴스 알림을 요약하는 아이폰 AI 기능이 부정확한 정보를 전달하는 문제로 해당 기능을 일시 중단했다. 내부 문서에 따르면, 새로운 알렉사는 구독형 서비스로 제공될 예정이며, 성격 설정, 대화... \",\n",
      "\t\t\t\"pubDate\":\"Wed, 19 Feb 2025 16:53:00 +0900\"\n",
      "\t\t},\n",
      "\t\t{\n",
      "\t\t\t\"title\":\"미래에셋 박현주 vs 댄 아이브스..'엇갈린 테슬라 전망'\",\n",
      "\t\t\t\"originallink\":\"https:\\/\\/www.straightnews.co.kr\\/news\\/articleView.html?idxno=264565\",\n",
      "\t\t\t\"link\":\"https:\\/\\/www.straightnews.co.kr\\/news\\/articleView.html?idxno=264565\",\n",
      "\t\t\t\"description\":\"연초 이후 M7 종목 주가 흐름을 보면, 아마존과 메타를 제외한 <b>애플<\\/b>·마이크로소프트·엔비디아·알파벳... 세미나에 참석한 댄 아이브스 애널리스트는 &quot;미국 주식시장은 엔비디아, <b>애플<\\/b> 등 M7 종목의 강력한 퍼포먼스에... \",\n",
      "\t\t\t\"pubDate\":\"Wed, 19 Feb 2025 16:52:00 +0900\"\n",
      "\t\t},\n",
      "\t\t{\n",
      "\t\t\t\"title\":\"아이폰-갤럭시 문자 장벽 허물어졌다…<b>애플<\\/b>, 하반기 차세대 문자 도입\",\n",
      "\t\t\t\"originallink\":\"https:\\/\\/www.widedaily.com\\/news\\/articleView.html?idxno=259745\",\n",
      "\t\t\t\"link\":\"https:\\/\\/www.widedaily.com\\/news\\/articleView.html?idxno=259745\",\n",
      "\t\t\t\"description\":\"<b>애플<\\/b> '아이폰'에 차세대 문자 전송 서비스가 도입된다. 이에 따라 삼성 갤럭시폰 이용자와도 문자 서비스를 통해 대용량 파일은 물론 채팅 형식의 메시지 주고 받을 수 있게 된다. 방송통신위원회는 <b>애플<\\/b>이 아이폰에... \",\n",
      "\t\t\t\"pubDate\":\"Wed, 19 Feb 2025 16:52:00 +0900\"\n",
      "\t\t},\n",
      "\t\t{\n",
      "\t\t\t\"title\":\"[E-로컬뉴스] 포항시 소식\",\n",
      "\t\t\t\"originallink\":\"https:\\/\\/www.ekn.kr\\/web\\/view.php?key=20250219026557893\",\n",
      "\t\t\t\"link\":\"https:\\/\\/www.ekn.kr\\/web\\/view.php?key=20250219026557893\",\n",
      "\t\t\t\"description\":\"아울러 포스텍, 한국로봇융합연구원, <b>애플<\\/b>R&amp;D지원센터 등 우수한 산학 연구인프라로 연 1,000여 명 이상의 우수 인재를 배출해 디지털·AI 산업이 성장할 수 있는 최적의 요건을 갖춘 점도 인정받았다. 포항시는 대학과... \",\n",
      "\t\t\t\"pubDate\":\"Wed, 19 Feb 2025 16:52:00 +0900\"\n",
      "\t\t},\n",
      "\t\t{\n",
      "\t\t\t\"title\":\"아이폰과 갤럭시 사이 대용량 파일 전송 가능해진다, 방통위 <b>애플<\\/b>에 행...\",\n",
      "\t\t\t\"originallink\":\"https:\\/\\/www.businesspost.co.kr\\/BP?command=article_view&num=384163\",\n",
      "\t\t\t\"link\":\"https:\\/\\/www.businesspost.co.kr\\/BP?command=article_view&num=384163\",\n",
      "\t\t\t\"description\":\"방송통신위원회는 <b>애플<\\/b> 아이폰에도 기존 문자 메시지를 대체하는 '차세대 메시지 전송 서비스(RCS)'를... 19일 방송통신위원회는 <b>애플<\\/b>에 차세대 메시지 전송 서비스를 도입하도록 행정지도했다고 밝혔다. &lt;연합뉴스... \",\n",
      "\t\t\t\"pubDate\":\"Wed, 19 Feb 2025 16:52:00 +0900\"\n",
      "\t\t}\n",
      "\t]\n",
      "}\n"
     ]
    }
   ],
   "execution_count": 3
  }
 ],
 "metadata": {
  "kernelspec": {
   "display_name": "Python 3",
   "language": "python",
   "name": "python3"
  },
  "language_info": {
   "codemirror_mode": {
    "name": "ipython",
    "version": 2
   },
   "file_extension": ".py",
   "mimetype": "text/x-python",
   "name": "python",
   "nbconvert_exporter": "python",
   "pygments_lexer": "ipython2",
   "version": "2.7.6"
  }
 },
 "nbformat": 4,
 "nbformat_minor": 5
}
