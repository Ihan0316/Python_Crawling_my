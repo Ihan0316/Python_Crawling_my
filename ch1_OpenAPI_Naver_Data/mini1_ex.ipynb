{
 "cells": [
  {
   "cell_type": "code",
   "id": "initial_id",
   "metadata": {
    "collapsed": true,
    "ExecuteTime": {
     "end_time": "2025-02-19T08:02:18.232661Z",
     "start_time": "2025-02-19T08:02:18.227032Z"
    }
   },
   "source": [
    "import sys\n",
    "import urllib.request\n",
    "import datetime\n",
    "import time\n",
    "import json\n",
    "import os\n",
    "from dotenv import load_dotenv\n",
    "\n",
    "load_dotenv()\n",
    "client_id = os.getenv('CLIENT_ID')\n",
    "client_secret = os.getenv('CLIENT_SECRET')\n",
    "\n",
    "#[CODE 1]\n",
    "def getRequestUrl(url):\n",
    "    req = urllib.request.Request(url)\n",
    "    req.add_header(\"X-Naver-Client-Id\", client_id)\n",
    "    req.add_header(\"X-Naver-Client-Secret\", client_secret)\n",
    "\n",
    "    try:\n",
    "        response = urllib.request.urlopen(req)\n",
    "        if response.getcode() == 200:\n",
    "            print(\"[%s] Url Request Success\" % datetime.datetime.now())\n",
    "            return response.read().decode('utf-8')\n",
    "\n",
    "    except Exception as e:\n",
    "        print(e)\n",
    "        print(\"[%s] Error for URL : %s\" % (datetime.datetime.now(), url))\n",
    "        return None"
   ],
   "outputs": [],
   "execution_count": 1
  },
  {
   "metadata": {
    "ExecuteTime": {
     "end_time": "2025-02-19T08:02:18.241395Z",
     "start_time": "2025-02-19T08:02:18.239059Z"
    }
   },
   "cell_type": "code",
   "source": [
    "#[CODE 2]\n",
    "def getNaverSearch(node, srcText, start, display):\n",
    "    base = \"https://openapi.naver.com/v1/search\"\n",
    "    node = \"/%s.json\" % node\n",
    "    parameters = \"?query=%s&start=%s&display=%s\" %(urllib.parse.quote(srcText), start, display)\n",
    "    url = base + node + parameters\n",
    "    responseDecode = getRequestUrl(url) #[CODE 1]\n",
    "    if (responseDecode == None):\n",
    "        return None\n",
    "    else:\n",
    "        return json.loads(responseDecode)\n"
   ],
   "id": "be643ef943db114d",
   "outputs": [],
   "execution_count": 2
  },
  {
   "metadata": {
    "ExecuteTime": {
     "end_time": "2025-02-19T08:02:18.300745Z",
     "start_time": "2025-02-19T08:02:18.299150Z"
    }
   },
   "cell_type": "code",
   "source": [
    "#[CODE 3]\n",
    "def getPostData(post, jsonResult, cnt):\n",
    "    title = post['title']\n",
    "    description = post['description']\n",
    "    org_link = post['bloggerlink']\n",
    "    link = post['link']\n",
    "    pDate = datetime.datetime.strptime(post['postdate'], '%Y%m%d')\n",
    "    pDate = pDate.strftime('%Y-%m-%d')\n",
    "    jsonResult.append({'cnt':cnt, 'title':title, 'description': description,\n",
    "    'org_link':org_link, 'link': link, 'pDate':pDate})\n",
    "    return"
   ],
   "id": "d5e4c7bd62ce1ff5",
   "outputs": [],
   "execution_count": 3
  },
  {
   "metadata": {
    "ExecuteTime": {
     "end_time": "2025-02-19T08:02:33.819637Z",
     "start_time": "2025-02-19T08:02:18.305688Z"
    }
   },
   "cell_type": "code",
   "source": [
    "#[CODE 0]\n",
    "def main():\n",
    "    node = 'blog' #크롤링할 대상\n",
    "    srcText = input('검색어를 입력하세요: ')\n",
    "    cnt = 0\n",
    "    jsonResult = []\n",
    "    jsonResponse = getNaverSearch(node, srcText, 1, 100) #[CODE 2]\n",
    "    total = jsonResponse['total']\n",
    "    while ((jsonResponse != None) and (jsonResponse['display'] != 0)):\n",
    "        for post in jsonResponse['items']:\n",
    "            cnt += 1\n",
    "            getPostData(post, jsonResult, cnt) #[CODE 3]\n",
    "        start = jsonResponse['start'] + jsonResponse['display']\n",
    "        jsonResponse = getNaverSearch(node, srcText, start, 100) #[CODE 2]\n",
    "    print('전체 검색 : %d 건' %total)\n",
    "    with open('%s_naver_%s.json' % (srcText, node), 'w', encoding='utf8') as outfile:\n",
    "        jsonFile = json.dumps(jsonResult, indent = 4, sort_keys = True, ensure_ascii = False)\n",
    "        outfile.write(jsonFile)\n",
    "    print(\"가져온 데이터 : %d 건\" %(cnt))\n",
    "    print('%s_naver_%s.json SAVED' % (srcText, node))\n",
    "\n",
    "if __name__ == '__main__':\n",
    "    main()"
   ],
   "id": "61c678229d83a8cc",
   "outputs": [
    {
     "name": "stdout",
     "output_type": "stream",
     "text": [
      "[2025-02-19 17:02:30.938539] Url Request Success\n",
      "[2025-02-19 17:02:31.221440] Url Request Success\n",
      "[2025-02-19 17:02:31.519144] Url Request Success\n",
      "[2025-02-19 17:02:31.797407] Url Request Success\n",
      "[2025-02-19 17:02:32.118736] Url Request Success\n",
      "[2025-02-19 17:02:32.419728] Url Request Success\n",
      "[2025-02-19 17:02:32.754763] Url Request Success\n",
      "[2025-02-19 17:02:33.062904] Url Request Success\n",
      "[2025-02-19 17:02:33.370402] Url Request Success\n",
      "[2025-02-19 17:02:33.704192] Url Request Success\n",
      "HTTP Error 400: Bad Request\n",
      "[2025-02-19 17:02:33.810245] Error for URL : https://openapi.naver.com/v1/search/blog.json?query=%EC%A7%91%EA%B0%80%EA%B3%A0%EC%8B%B6%EB%8B%A4&start=1001&display=100\n",
      "전체 검색 : 1145504 건\n",
      "가져온 데이터 : 1000 건\n",
      "집가고싶다_naver_blog.json SAVED\n"
     ]
    }
   ],
   "execution_count": 4
  }
 ],
 "metadata": {
  "kernelspec": {
   "display_name": "Python 3",
   "language": "python",
   "name": "python3"
  },
  "language_info": {
   "codemirror_mode": {
    "name": "ipython",
    "version": 2
   },
   "file_extension": ".py",
   "mimetype": "text/x-python",
   "name": "python",
   "nbconvert_exporter": "python",
   "pygments_lexer": "ipython2",
   "version": "2.7.6"
  }
 },
 "nbformat": 4,
 "nbformat_minor": 5
}
