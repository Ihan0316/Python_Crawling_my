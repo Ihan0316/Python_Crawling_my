{
 "cells": [
  {
   "cell_type": "code",
   "id": "initial_id",
   "metadata": {
    "collapsed": true,
    "ExecuteTime": {
     "end_time": "2025-02-20T01:29:42.722882Z",
     "start_time": "2025-02-20T01:29:42.256565Z"
    }
   },
   "source": [
    "import bs4\n",
    "import urllib.request\n",
    "\n",
    "nateUrl = \"https://www.nate.com\"\n",
    "\n",
    "htmlObj = urllib.request.urlopen(nateUrl)\n",
    "webPage = htmlObj.read()\n",
    "bsObj = bs4.BeautifulSoup(webPage, \"html.parser\")"
   ],
   "outputs": [],
   "execution_count": 34
  },
  {
   "metadata": {
    "ExecuteTime": {
     "end_time": "2025-02-20T01:29:42.727867Z",
     "start_time": "2025-02-20T01:29:42.725910Z"
    }
   },
   "cell_type": "code",
   "source": [
    "tag = bsObj.find(\"div\", {\"id\": \"NateBi\"})\n",
    "\n",
    "print(tag)"
   ],
   "id": "2eab6d8773464fa1",
   "outputs": [
    {
     "name": "stdout",
     "output_type": "stream",
     "text": [
      "<div class=\"area_bi\" id=\"NateBi\" role=\"banner\">\n",
      "<h1 class=\"bi\" title=\"네이트\"><a href=\"//www.nate.com/?f=bi\" onmousedown=\"nc('NBI01');\">네이트</a></h1>\n",
      "</div>\n"
     ]
    }
   ],
   "execution_count": 35
  },
  {
   "metadata": {
    "ExecuteTime": {
     "end_time": "2025-02-20T01:29:42.754182Z",
     "start_time": "2025-02-20T01:29:42.752510Z"
    }
   },
   "cell_type": "code",
   "source": [
    "find_a = tag.find('a')\n",
    "print(find_a)\n",
    "\n",
    "find_a_href = find_a['href']\n",
    "print(find_a_href)\n",
    "\n",
    "find_a_text = find_a.text\n",
    "print(find_a_text)"
   ],
   "id": "a7310d6f5f7cde95",
   "outputs": [
    {
     "name": "stdout",
     "output_type": "stream",
     "text": [
      "<a href=\"//www.nate.com/?f=bi\" onmousedown=\"nc('NBI01');\">네이트</a>\n",
      "//www.nate.com/?f=bi\n",
      "네이트\n"
     ]
    }
   ],
   "execution_count": 36
  },
  {
   "metadata": {
    "ExecuteTime": {
     "end_time": "2025-02-20T01:29:57.563654Z",
     "start_time": "2025-02-20T01:29:57.487122Z"
    }
   },
   "cell_type": "code",
   "source": [
    "nateNewsUrl = \"https://news.nate.com\"\n",
    "\n",
    "htmlNewsObj = urllib.request.urlopen(nateNewsUrl)\n",
    "webNewsPage = htmlNewsObj.read()\n",
    "bsNewsObj = bs4.BeautifulSoup(webNewsPage, \"html.parser\")\n",
    "\n",
    "news_category = bsNewsObj.find(\"div\", {\"class\": \"snbArea\"})\n",
    "find_news_category = news_category.find_all('li')\n",
    "\n",
    "print(find_news_category)"
   ],
   "id": "e0ce988f3249fffd",
   "outputs": [
    {
     "name": "stdout",
     "output_type": "stream",
     "text": [
      "[<li class=\"on\"><h1><a aria-current=\"page\" href=\"//news.nate.com/\" onclick=\"ndrclick('SNB01');\">오늘</a></h1></li>, <li><a href=\"//news.nate.com/total\" onclick=\"ndrclick('SNB02');\">종합</a></li>, <li><a href=\"//news.nate.com/recent?mid=n0100\" onclick=\"ndrclick('RIG01');\">최신뉴스</a></li>, <li><a href=\"//news.nate.com/section?mid=n0200\" onclick=\"ndrclick('RIG12');\">정치</a></li>, <li><a href=\"//news.nate.com/section?mid=n0300\" onclick=\"ndrclick('RIG22');\">경제</a></li>, <li><a href=\"//news.nate.com/section?mid=n0400\" onclick=\"ndrclick('RIG33');\">사회</a></li>, <li><a href=\"//news.nate.com/section?mid=n0500\" onclick=\"ndrclick('RIG47');\">세계</a></li>, <li><a href=\"//news.nate.com/section?mid=n0600\" onclick=\"ndrclick('RIG57');\">IT/과학</a></li>, <li><a href=\"//news.nate.com/column\" onclick=\"ndrclick('RIG67');\">칼럼</a></li>, <li><a href=\"//news.nate.com/photo\" onclick=\"ndrclick('RIG74');\">포토</a></li>, <li><a href=\"//news.nate.com/tv?mid=n0900\" onclick=\"ndrclick('RIG85');\">TV</a></li>, <li><a href=\"//news.nate.com/radio/list\" onclick=\"ndrclick('RIR00');\">라디오</a></li>, <li><a href=\"//news.nate.com/rank/?mid=n1000\" onclick=\"ndrclick('RIR00');\">랭킹뉴스</a></li>, <li><a href=\"//news.nate.com/comment?mid=n1500\" onclick=\"ndrclick('RIR08');\">투데이댓글</a></li>]\n"
     ]
    }
   ],
   "execution_count": 39
  },
  {
   "metadata": {
    "ExecuteTime": {
     "end_time": "2025-02-20T01:33:02.539970Z",
     "start_time": "2025-02-20T01:33:02.536555Z"
    }
   },
   "cell_type": "code",
   "source": [
    "\n",
    "for i in find_news_category:\n",
    "    a_tag = i.find('a')\n",
    "\n",
    "    print(f'a_tag = {a_tag},\\na_tag_href = {a_tag[\"href\"]},\\na_tag_text = {a_tag.text}')"
   ],
   "id": "a005db310a6675dd",
   "outputs": [
    {
     "name": "stdout",
     "output_type": "stream",
     "text": [
      "a_tag = <a aria-current=\"page\" href=\"//news.nate.com/\" onclick=\"ndrclick('SNB01');\">오늘</a>,\n",
      "a_tag_href = //news.nate.com/,\n",
      "a_tag_text = 오늘\n",
      "a_tag = <a href=\"//news.nate.com/total\" onclick=\"ndrclick('SNB02');\">종합</a>,\n",
      "a_tag_href = //news.nate.com/total,\n",
      "a_tag_text = 종합\n",
      "a_tag = <a href=\"//news.nate.com/recent?mid=n0100\" onclick=\"ndrclick('RIG01');\">최신뉴스</a>,\n",
      "a_tag_href = //news.nate.com/recent?mid=n0100,\n",
      "a_tag_text = 최신뉴스\n",
      "a_tag = <a href=\"//news.nate.com/section?mid=n0200\" onclick=\"ndrclick('RIG12');\">정치</a>,\n",
      "a_tag_href = //news.nate.com/section?mid=n0200,\n",
      "a_tag_text = 정치\n",
      "a_tag = <a href=\"//news.nate.com/section?mid=n0300\" onclick=\"ndrclick('RIG22');\">경제</a>,\n",
      "a_tag_href = //news.nate.com/section?mid=n0300,\n",
      "a_tag_text = 경제\n",
      "a_tag = <a href=\"//news.nate.com/section?mid=n0400\" onclick=\"ndrclick('RIG33');\">사회</a>,\n",
      "a_tag_href = //news.nate.com/section?mid=n0400,\n",
      "a_tag_text = 사회\n",
      "a_tag = <a href=\"//news.nate.com/section?mid=n0500\" onclick=\"ndrclick('RIG47');\">세계</a>,\n",
      "a_tag_href = //news.nate.com/section?mid=n0500,\n",
      "a_tag_text = 세계\n",
      "a_tag = <a href=\"//news.nate.com/section?mid=n0600\" onclick=\"ndrclick('RIG57');\">IT/과학</a>,\n",
      "a_tag_href = //news.nate.com/section?mid=n0600,\n",
      "a_tag_text = IT/과학\n",
      "a_tag = <a href=\"//news.nate.com/column\" onclick=\"ndrclick('RIG67');\">칼럼</a>,\n",
      "a_tag_href = //news.nate.com/column,\n",
      "a_tag_text = 칼럼\n",
      "a_tag = <a href=\"//news.nate.com/photo\" onclick=\"ndrclick('RIG74');\">포토</a>,\n",
      "a_tag_href = //news.nate.com/photo,\n",
      "a_tag_text = 포토\n",
      "a_tag = <a href=\"//news.nate.com/tv?mid=n0900\" onclick=\"ndrclick('RIG85');\">TV</a>,\n",
      "a_tag_href = //news.nate.com/tv?mid=n0900,\n",
      "a_tag_text = TV\n",
      "a_tag = <a href=\"//news.nate.com/radio/list\" onclick=\"ndrclick('RIR00');\">라디오</a>,\n",
      "a_tag_href = //news.nate.com/radio/list,\n",
      "a_tag_text = 라디오\n",
      "a_tag = <a href=\"//news.nate.com/rank/?mid=n1000\" onclick=\"ndrclick('RIR00');\">랭킹뉴스</a>,\n",
      "a_tag_href = //news.nate.com/rank/?mid=n1000,\n",
      "a_tag_text = 랭킹뉴스\n",
      "a_tag = <a href=\"//news.nate.com/comment?mid=n1500\" onclick=\"ndrclick('RIR08');\">투데이댓글</a>,\n",
      "a_tag_href = //news.nate.com/comment?mid=n1500,\n",
      "a_tag_text = 투데이댓글\n"
     ]
    }
   ],
   "execution_count": 47
  }
 ],
 "metadata": {
  "kernelspec": {
   "display_name": "Python 3",
   "language": "python",
   "name": "python3"
  },
  "language_info": {
   "codemirror_mode": {
    "name": "ipython",
    "version": 2
   },
   "file_extension": ".py",
   "mimetype": "text/x-python",
   "name": "python",
   "nbconvert_exporter": "python",
   "pygments_lexer": "ipython2",
   "version": "2.7.6"
  }
 },
 "nbformat": 4,
 "nbformat_minor": 5
}
