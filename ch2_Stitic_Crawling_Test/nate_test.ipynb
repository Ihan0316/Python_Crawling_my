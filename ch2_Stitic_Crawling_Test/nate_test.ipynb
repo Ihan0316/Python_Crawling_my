{
 "cells": [
  {
   "cell_type": "code",
   "id": "initial_id",
   "metadata": {
    "collapsed": true,
    "ExecuteTime": {
     "end_time": "2025-02-20T01:12:39.534676Z",
     "start_time": "2025-02-20T01:12:39.391137Z"
    }
   },
   "source": [
    "import bs4\n",
    "import urllib.request\n",
    "\n",
    "nateUrl = \"https://www.nate.com\"\n",
    "\n",
    "htmlObj = urllib.request.urlopen(nateUrl)\n",
    "webPage = htmlObj.read()\n",
    "bsObj = bs4.BeautifulSoup(webPage, \"html.parser\")"
   ],
   "outputs": [],
   "execution_count": 4
  },
  {
   "metadata": {
    "ExecuteTime": {
     "end_time": "2025-02-20T01:15:15.750858Z",
     "start_time": "2025-02-20T01:15:15.747355Z"
    }
   },
   "cell_type": "code",
   "source": [
    "tag = bsObj.find(\"div\", {\"id\": \"NateBi\"})\n",
    "\n",
    "print(tag)"
   ],
   "id": "2eab6d8773464fa1",
   "outputs": [
    {
     "name": "stdout",
     "output_type": "stream",
     "text": [
      "<div class=\"area_bi\" id=\"NateBi\" role=\"banner\">\n",
      "<h1 class=\"bi\" title=\"네이트\"><a href=\"//www.nate.com/?f=bi\" onmousedown=\"nc('NBI01');\">네이트</a></h1>\n",
      "</div>\n"
     ]
    }
   ],
   "execution_count": 7
  }
 ],
 "metadata": {
  "kernelspec": {
   "display_name": "Python 3",
   "language": "python",
   "name": "python3"
  },
  "language_info": {
   "codemirror_mode": {
    "name": "ipython",
    "version": 2
   },
   "file_extension": ".py",
   "mimetype": "text/x-python",
   "name": "python",
   "nbconvert_exporter": "python",
   "pygments_lexer": "ipython2",
   "version": "2.7.6"
  }
 },
 "nbformat": 4,
 "nbformat_minor": 5
}
