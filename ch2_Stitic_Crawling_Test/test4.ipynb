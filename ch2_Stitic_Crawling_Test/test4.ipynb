{
 "cells": [
  {
   "cell_type": "code",
   "id": "initial_id",
   "metadata": {
    "collapsed": true,
    "ExecuteTime": {
     "end_time": "2025-02-20T03:12:31.919519Z",
     "start_time": "2025-02-20T03:12:19.732525Z"
    }
   },
   "source": [
    "import bs4\n",
    "import csv\n",
    "import time\n",
    "import datetime\n",
    "import urllib.request\n",
    "\n",
    "now = datetime.datetime.now()\n",
    "yymmdd = now.strftime('%Y%m%d')\n",
    "csvfile = f'busanweather_{yymmdd}.csv'\n",
    "\n",
    "def initCSVFile(csvfile):\n",
    "    with open(csvfile, 'w', newline='', encoding='utf-8') as f:\n",
    "        csvWriter = csv.writer(f)\n",
    "        csvWriter.writerow(['연월일','시분초','온도','습도','강수량','풍향'])\n",
    "\n",
    "def getWeatherData():\n",
    "    nateWeatherUrl = \"https://news.nate.com/weather?areaCode=11H20201\"\n",
    "    htmlWeatherObj = urllib.request.urlopen(nateWeatherUrl)\n",
    "    webWeatherPage = htmlWeatherObj.read()\n",
    "    bsWeatherObj = bs4.BeautifulSoup(webWeatherPage, \"html.parser\")\n",
    "    temperature_today = bsWeatherObj.find(\"div\", {\"class\": \"right_today\"})\n",
    "    temperature = temperature_today.find('p', {'class': 'celsius'}).get_text()\n",
    "    humidity = temperature_today.find('p', {'class': 'humidity'}).get_text()\n",
    "    wind = temperature_today.find('p', {'class': 'wind'}).get_text()\n",
    "    rain = temperature_today.find('p', {'class': 'rainfall'}).get_text()\n",
    "    return [temperature, humidity, rain, wind]\n",
    "\n",
    "def writeCSVFile(csvfile, weather_list):\n",
    "    with open(csvfile, 'a', newline='', encoding='utf-8') as f:\n",
    "        csvWriter = csv.writer(f)\n",
    "        csvWriter.writerow(weather_list)\n",
    "\n",
    "initCSVFile(csvfile)\n",
    "\n",
    "count=10\n",
    "while count > 0:\n",
    "    count -= 1\n",
    "    now = datetime.datetime.now()\n",
    "    yymmdd = now.strftime('%Y-%m-%d')\n",
    "    hhmmss = now.strftime('%H:%M:%S')\n",
    "    timelist = [yymmdd, hhmmss]\n",
    "    weather_list = getWeatherData()\n",
    "    writeCSVFile(csvfile, timelist + weather_list)\n",
    "    time.sleep(1)\n",
    "\n",
    "    print(*timelist, *weather_list)"
   ],
   "outputs": [
    {
     "name": "stdout",
     "output_type": "stream",
     "text": [
      "2025-02-20 12:12:19 2℃ 습도22% 강수량0mm 풍향 서남서 4.5 m/s\n",
      "2025-02-20 12:12:21 2℃ 습도22% 강수량0mm 풍향 서남서 4.5 m/s\n",
      "2025-02-20 12:12:22 2℃ 습도22% 강수량0mm 풍향 서남서 4.5 m/s\n",
      "2025-02-20 12:12:23 2℃ 습도22% 강수량0mm 풍향 서남서 4.5 m/s\n",
      "2025-02-20 12:12:24 2℃ 습도22% 강수량0mm 풍향 서남서 4.5 m/s\n",
      "2025-02-20 12:12:25 2℃ 습도22% 강수량0mm 풍향 서남서 4.5 m/s\n",
      "2025-02-20 12:12:27 2℃ 습도22% 강수량0mm 풍향 서남서 4.5 m/s\n",
      "2025-02-20 12:12:28 2℃ 습도22% 강수량0mm 풍향 서남서 4.5 m/s\n",
      "2025-02-20 12:12:29 2℃ 습도22% 강수량0mm 풍향 서남서 4.5 m/s\n",
      "2025-02-20 12:12:30 2℃ 습도22% 강수량0mm 풍향 서남서 4.5 m/s\n"
     ]
    }
   ],
   "execution_count": 17
  }
 ],
 "metadata": {
  "kernelspec": {
   "display_name": "Python 3",
   "language": "python",
   "name": "python3"
  },
  "language_info": {
   "codemirror_mode": {
    "name": "ipython",
    "version": 2
   },
   "file_extension": ".py",
   "mimetype": "text/x-python",
   "name": "python",
   "nbconvert_exporter": "python",
   "pygments_lexer": "ipython2",
   "version": "2.7.6"
  }
 },
 "nbformat": 4,
 "nbformat_minor": 5
}
