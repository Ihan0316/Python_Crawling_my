{
 "cells": [
  {
   "cell_type": "code",
   "id": "initial_id",
   "metadata": {
    "collapsed": true,
    "ExecuteTime": {
     "end_time": "2025-02-20T01:44:27.251010Z",
     "start_time": "2025-02-20T01:44:17.198211Z"
    }
   },
   "source": [
    "import csv\n",
    "import datetime\n",
    "import time\n",
    "\n",
    "now = datetime.datetime.now()\n",
    "yymmdd = now.strftime('%Y%m%d')\n",
    "file_path = f'datetime_{yymmdd}.csv'\n",
    "# Write headers\n",
    "with open(file_path, 'w', newline='', encoding='utf-8') as csvfile:\n",
    "    csvWriter = csv.writer(csvfile)\n",
    "    csvWriter.writerow(['연월일', '시분초'])\n",
    "\n",
    "count = 10\n",
    "while count > 0:\n",
    "    count -= 1\n",
    "    now = datetime.datetime.now()\n",
    "    yymmdd = now.strftime('%Y-%m-%d')\n",
    "    hhmmss = now.strftime('%H:%M:%S')\n",
    "    timelist = [yymmdd, hhmmss]\n",
    "    print(timelist)\n",
    "    # Write to file\n",
    "    with open(file_path, 'a', newline='', encoding='utf-8') as csvfile:\n",
    "        csvWriter = csv.writer(csvfile)\n",
    "        csvWriter.writerow(timelist)\n",
    "    time.sleep(1)"
   ],
   "outputs": [
    {
     "name": "stdout",
     "output_type": "stream",
     "text": [
      "['2025-02-20', '10:44:17']\n",
      "['2025-02-20', '10:44:18']\n",
      "['2025-02-20', '10:44:19']\n",
      "['2025-02-20', '10:44:20']\n",
      "['2025-02-20', '10:44:21']\n",
      "['2025-02-20', '10:44:22']\n",
      "['2025-02-20', '10:44:23']\n",
      "['2025-02-20', '10:44:24']\n",
      "['2025-02-20', '10:44:25']\n",
      "['2025-02-20', '10:44:26']\n"
     ]
    }
   ],
   "execution_count": 4
  }
 ],
 "metadata": {
  "kernelspec": {
   "display_name": "Python 3",
   "language": "python",
   "name": "python3"
  },
  "language_info": {
   "codemirror_mode": {
    "name": "ipython",
    "version": 2
   },
   "file_extension": ".py",
   "mimetype": "text/x-python",
   "name": "python",
   "nbconvert_exporter": "python",
   "pygments_lexer": "ipython2",
   "version": "2.7.6"
  }
 },
 "nbformat": 4,
 "nbformat_minor": 5
}
