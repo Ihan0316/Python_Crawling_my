{
 "cells": [
  {
   "cell_type": "code",
   "id": "initial_id",
   "metadata": {
    "collapsed": true,
    "ExecuteTime": {
     "end_time": "2025-02-20T03:35:15.249326Z",
     "start_time": "2025-02-20T03:35:10.326482Z"
    }
   },
   "source": [
    "import bs4\n",
    "import csv\n",
    "import datetime\n",
    "import urllib.request\n",
    "import json\n",
    "\n",
    "ALADIN_URL = \"https://www.aladin.co.kr/shop/common/wbest.aspx?BestType=SteadySeller&BranchType=1&CID=336\"\n",
    "\n",
    "def get_aladin_steady_seller():\n",
    "    html_obj = urllib.request.urlopen(ALADIN_URL)\n",
    "    web_page = html_obj.read()\n",
    "    bs_obj = bs4.BeautifulSoup(web_page, 'html.parser')\n",
    "\n",
    "    ss_book_box = bs_obj.find_all('div', {'class': 'ss_book_box'})\n",
    "\n",
    "    book_list = []\n",
    "\n",
    "    for ss_book in ss_book_box:\n",
    "        book_list.append(get_book_info(ss_book))\n",
    "\n",
    "    return book_list\n",
    "\n",
    "def get_book_info(ss_book):\n",
    "    book_list = ss_book.find(\"div\", {'class': 'ss_book_list'})\n",
    "\n",
    "    title = book_list.find('a', {'class': 'bo3'}).text\n",
    "    author_name = book_list.find('a', href=lambda x: x and 'AuthorSearch' in x).text\n",
    "    price = book_list.find('span', {'class': 'ss_p2'}).text\n",
    "\n",
    "    return [title, author_name, price]\n",
    "\n",
    "def write_csv(book_list):\n",
    "    now = datetime.datetime.now()\n",
    "    yymmdd = now.strftime('%Y%m%d')\n",
    "    csvfile = f'aladin_{yymmdd}.csv'\n",
    "    with open(csvfile, 'w', newline='', encoding='utf-8') as f:\n",
    "        csv_writer = csv.writer(f)\n",
    "        csv_writer.writerow(['제목', '지은이', '가격'])\n",
    "        for book in book_list:\n",
    "            csv_writer.writerow(book)\n",
    "\n",
    "def write_json(book_list):\n",
    "    now = datetime.datetime.now()\n",
    "    yymmdd = now.strftime('%Y%m%d')\n",
    "    jsonfile = f'aladin_{yymmdd}.json'\n",
    "    with open(jsonfile, 'w', encoding='utf-8') as f:\n",
    "        json.dump(book_list, f, ensure_ascii=False, indent=4)\n",
    "\n",
    "def save():\n",
    "    write_csv(get_aladin_steady_seller())\n",
    "    write_json(get_aladin_steady_seller())\n",
    "\n",
    "if __name__ == '__main__':\n",
    "    save()\n",
    "    print('저장 완료')"
   ],
   "outputs": [
    {
     "name": "stdout",
     "output_type": "stream",
     "text": [
      "저장 완료\n"
     ]
    }
   ],
   "execution_count": 100
  }
 ],
 "metadata": {
  "kernelspec": {
   "display_name": "Python 3",
   "language": "python",
   "name": "python3"
  },
  "language_info": {
   "codemirror_mode": {
    "name": "ipython",
    "version": 2
   },
   "file_extension": ".py",
   "mimetype": "text/x-python",
   "name": "python",
   "nbconvert_exporter": "python",
   "pygments_lexer": "ipython2",
   "version": "2.7.6"
  }
 },
 "nbformat": 4,
 "nbformat_minor": 5
}
