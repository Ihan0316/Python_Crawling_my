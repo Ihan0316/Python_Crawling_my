{
 "cells": [
  {
   "metadata": {
    "ExecuteTime": {
     "end_time": "2025-02-20T07:15:59.778567Z",
     "start_time": "2025-02-20T07:15:58.578611Z"
    }
   },
   "cell_type": "code",
   "source": [
    "import bs4\n",
    "import csv\n",
    "import datetime\n",
    "import urllib.request\n",
    "import json\n",
    "import pymysql\n",
    "\n",
    "# 프리미어리그 테이블 URL\n",
    "Primer_Lig_URL = \"https://www.premierleague.com/tables\"\n",
    "\n",
    "# 웹 페이지 요청 및 HTML 파싱\n",
    "html_obj = urllib.request.urlopen(Primer_Lig_URL)\n",
    "web_page = html_obj.read()\n",
    "soup = bs4.BeautifulSoup(web_page, \"html.parser\")\n",
    "\n",
    "# 테이블의 모든 팀 정보 가져오기\n",
    "rows = soup.select(\"tbody.league-table__tbody tr\")\n",
    "\n",
    "# 결과 저장 리스트\n",
    "teams_data = []\n",
    "\n",
    "for row in rows:\n",
    "    # 팀 이름 가져오기\n",
    "    team_name_tag = row.select_one(\"td.league-table__team a span.long\")\n",
    "    if team_name_tag:\n",
    "        team_name = team_name_tag.text.strip()\n",
    "    else:\n",
    "        continue  # 팀 이름이 없으면 건너뛴다.\n",
    "\n",
    "    # 경기 데이터 가져오기\n",
    "    stats = [td.text.strip() for td in row.select(\"td\")[2:10]]\n",
    "\n",
    "    # 데이터 리스트에 추가\n",
    "    teams_data.append([team_name] + stats)\n",
    "\n",
    "# 컬럼명 정의\n",
    "columns = [\"Club\", \"Played\", \"Won\", \"Drawn\", \"Lost\", \"GF\", \"GA\", \"GD\", \"Points\"]"
   ],
   "id": "2b9701bcca21794a",
   "outputs": [],
   "execution_count": 28
  },
  {
   "metadata": {
    "ExecuteTime": {
     "end_time": "2025-02-20T07:15:59.783186Z",
     "start_time": "2025-02-20T07:15:59.781227Z"
    }
   },
   "cell_type": "code",
   "source": [
    "with open('premier league.json', 'w', encoding='utf-8') as outfile:\n",
    "    jsonFile = json.dumps(teams_data, indent=4, sort_keys=True, ensure_ascii=False)\n",
    "    outfile.write(jsonFile)"
   ],
   "id": "24a5f9a1dcdf4e88",
   "outputs": [],
   "execution_count": 29
  },
  {
   "metadata": {
    "ExecuteTime": {
     "end_time": "2025-02-20T07:16:00.149235Z",
     "start_time": "2025-02-20T07:16:00.146972Z"
    }
   },
   "cell_type": "code",
   "source": [
    "result_list = []\n",
    "for content in teams_data:\n",
    "    result_list.append(teams_data)\n",
    "\n",
    "with open('premier league.csv', 'a', newline='') as csvfile:\n",
    "    fieldnames = columns\n",
    "    writer = csv.DictWriter(csvfile, fieldnames=fieldnames)\n",
    "\n",
    "    for result in teams_data:\n",
    "        writer.writerow(dict(zip(fieldnames, result)))"
   ],
   "id": "d3efc635780d6711",
   "outputs": [],
   "execution_count": 30
  },
  {
   "metadata": {
    "ExecuteTime": {
     "end_time": "2025-02-20T07:16:00.561570Z",
     "start_time": "2025-02-20T07:16:00.512682Z"
    }
   },
   "cell_type": "code",
   "source": [
    "db = pymysql.connect(host=\"localhost\", user=\"webuser\", passwd=\"webuser\", db=\"webdb\")\n",
    "\n",
    "cursor = db.cursor()\n",
    "\n",
    "query = \"INSERT INTO premierleague (Club, Played, Won, Drawn, Lost, GF, GA, GD, Points) VALUES (%s, %s, %s, %s, %s, %s, %s, %s, %s)\"\n",
    "\n",
    "try:\n",
    "    cursor.executemany(query, teams_data)\n",
    "    db.commit()\n",
    "    print(f\"DB 저장 완료\")\n",
    "except Exception as e:\n",
    "    db.rollback()\n",
    "    print(f\"DB 저장 실패 : {e}\")\n",
    "cursor.close()\n",
    "db.close()"
   ],
   "id": "443e83bfa1a48cb5",
   "outputs": [
    {
     "name": "stdout",
     "output_type": "stream",
     "text": [
      "DB 저장 완료\n"
     ]
    }
   ],
   "execution_count": 31
  }
 ],
 "metadata": {
  "kernelspec": {
   "display_name": "Python 3",
   "language": "python",
   "name": "python3"
  },
  "language_info": {
   "codemirror_mode": {
    "name": "ipython",
    "version": 2
   },
   "file_extension": ".py",
   "mimetype": "text/x-python",
   "name": "python",
   "nbconvert_exporter": "python",
   "pygments_lexer": "ipython2",
   "version": "2.7.6"
  }
 },
 "nbformat": 4,
 "nbformat_minor": 5
}
