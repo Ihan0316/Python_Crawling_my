{
 "cells": [
  {
   "metadata": {
    "ExecuteTime": {
     "end_time": "2025-02-20T05:40:13.672100Z",
     "start_time": "2025-02-20T05:40:13.051591Z"
    }
   },
   "cell_type": "code",
   "source": [
    "import bs4\n",
    "import csv\n",
    "import datetime\n",
    "import urllib.request\n",
    "import json\n",
    "import pymysql\n",
    "\n",
    "VISIT_BUSAN_URL = (\"https://www.visitbusan.net/index.do?menuCd=DOM_000000201001000000\")\n",
    "\n",
    "html_obj = urllib.request.urlopen(VISIT_BUSAN_URL)\n",
    "web_page = html_obj.read()\n",
    "bs_obj = bs4.BeautifulSoup(web_page, 'html.parser')\n",
    "\n",
    "contents = bs_obj.find_all('div', {'class': 'hot-item'})\n",
    "\n",
    "def get_content_info(content):\n",
    "    thumbnail = content.find('img')[\"alt\"]\n",
    "    click_count = content.find(\"img\", alt=\"클릭수\").next_sibling.strip()\n",
    "    like_count = content.find(\"img\", alt=\"좋아요\").next_sibling.strip()\n",
    "    return [thumbnail, click_count, like_count]\n",
    "\n"
   ],
   "id": "e192f9b0fd263ada",
   "outputs": [],
   "execution_count": 34
  },
  {
   "metadata": {
    "ExecuteTime": {
     "end_time": "2025-02-20T05:40:15.438320Z",
     "start_time": "2025-02-20T05:40:15.432040Z"
    }
   },
   "cell_type": "code",
   "source": [
    "now = datetime.datetime.now()\n",
    "yymmdd = now.strftime('%Y%m%d')\n",
    "\n",
    "csvfile = f'visit_busan_{yymmdd}.csv'\n",
    "\n",
    "result_list = []\n",
    "for content in contents:\n",
    "    result_list.append(get_content_info(content))\n",
    "\n",
    "with open(csvfile, 'a', newline='') as csvfile:\n",
    "    fieldnames = ['thumbnail', 'click_count', 'like_count']\n",
    "    writer = csv.DictWriter(csvfile, fieldnames=fieldnames)\n",
    "\n",
    "    for result in result_list:\n",
    "        writer.writerow(dict(zip(fieldnames, result)))"
   ],
   "id": "425a01d71c93655c",
   "outputs": [],
   "execution_count": 35
  },
  {
   "metadata": {
    "ExecuteTime": {
     "end_time": "2025-02-20T05:40:17.177475Z",
     "start_time": "2025-02-20T05:40:17.173111Z"
    }
   },
   "cell_type": "code",
   "source": [
    "with open(f'visit_busan_{yymmdd}.json', 'w', encoding='utf-8') as outfile:\n",
    "    jsonFile = json.dumps(result_list, indent=4, sort_keys=True, ensure_ascii=False)\n",
    "    outfile.write(jsonFile)"
   ],
   "id": "1d430291a91839af",
   "outputs": [],
   "execution_count": 36
  },
  {
   "metadata": {
    "ExecuteTime": {
     "end_time": "2025-02-20T05:40:18.530053Z",
     "start_time": "2025-02-20T05:40:18.498737Z"
    }
   },
   "cell_type": "code",
   "source": [
    "db = pymysql.connect(host=\"localhost\", user=\"webuser\", passwd=\"webuser\", db=\"webdb\")\n",
    "\n",
    "cursor = db.cursor()\n",
    "\n",
    "query = \"INSERT INTO busanVisit (thumbnail, click_count, like_count) VALUES (%s, %s, %s)\"\n",
    "\n",
    "try:\n",
    "    cursor.executemany(query, result_list)\n",
    "    db.commit()\n",
    "    print(f\"DB 저장 완료\")\n",
    "except Exception as e:\n",
    "    db.rollback()\n",
    "    print(f\"DB 저장 실패 : {e}\")\n",
    "cursor.close()\n",
    "db.close()"
   ],
   "id": "426cab4d74e53b04",
   "outputs": [
    {
     "name": "stdout",
     "output_type": "stream",
     "text": [
      "DB 저장 완료\n"
     ]
    }
   ],
   "execution_count": 37
  }
 ],
 "metadata": {
  "kernelspec": {
   "display_name": "Python 3",
   "language": "python",
   "name": "python3"
  },
  "language_info": {
   "codemirror_mode": {
    "name": "ipython",
    "version": 2
   },
   "file_extension": ".py",
   "mimetype": "text/x-python",
   "name": "python",
   "nbconvert_exporter": "python",
   "pygments_lexer": "ipython2",
   "version": "2.7.6"
  }
 },
 "nbformat": 4,
 "nbformat_minor": 5
}
