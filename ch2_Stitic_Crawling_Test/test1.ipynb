{
 "cells": [
  {
   "cell_type": "code",
   "id": "initial_id",
   "metadata": {
    "collapsed": true
   },
   "source": [
    "import urllib.request\n",
    "nateUrl = \"https://www.nate.com\"\n",
    "\n",
    "htmlObj = urllib.request.urlopen(nateUrl)\n",
    "\n",
    "html = htmlObj.read()\n",
    "\n",
    "print(html)"
   ],
   "outputs": [],
   "execution_count": null
  },
  {
   "metadata": {},
   "cell_type": "code",
   "source": [
    "import bs4\n",
    "nateUrl = \"https://www.nate.com\"\n",
    "\n",
    "htmlObj = urllib.request.urlopen(nateUrl)\n",
    "\n",
    "bsObj = bs4.BeautifulSoup(htmlObj, \"html.parser\")\n",
    "\n",
    "print(bsObj)"
   ],
   "id": "4f7e589c81d50c0d",
   "outputs": [],
   "execution_count": null
  },
  {
   "metadata": {},
   "cell_type": "code",
   "source": [
    "import bs4\n",
    "\n",
    "#html 데이터 불러오기\n",
    "html = open(\"Sample02.html\", \"rt\", encoding=\"utf-8\").read()\n",
    "\n",
    "bsObj = bs4.BeautifulSoup(html, \"html.parser\")\n",
    "\n",
    "print(bsObj)"
   ],
   "id": "88931b6e304cc478",
   "outputs": [],
   "execution_count": null
  },
  {
   "metadata": {
    "ExecuteTime": {
     "end_time": "2025-02-20T00:37:28.973654Z",
     "start_time": "2025-02-20T00:37:28.969979Z"
    }
   },
   "cell_type": "code",
   "source": [
    "find_div = bsObj.find(\"div\")\n",
    "\n",
    "print(find_div)"
   ],
   "id": "3c2648331e4e3664",
   "outputs": [
    {
     "name": "stdout",
     "output_type": "stream",
     "text": [
      "<div> 요기를 클릭하세요 </div>\n"
     ]
    }
   ],
   "execution_count": 10
  },
  {
   "metadata": {
    "ExecuteTime": {
     "end_time": "2025-02-20T00:39:01.120360Z",
     "start_time": "2025-02-20T00:39:01.117381Z"
    }
   },
   "cell_type": "code",
   "source": [
    "find_ul = bsObj.find('ul')\n",
    "\n",
    "print(find_ul)"
   ],
   "id": "95713d0d5feebbf7",
   "outputs": [
    {
     "name": "stdout",
     "output_type": "stream",
     "text": [
      "<ul>\n",
      "<li> 한빛출판네트워크 </li>\n",
      "<li> 비기너 </li>\n",
      "<li> 데이터 분석 </li>\n",
      "</ul>\n"
     ]
    }
   ],
   "execution_count": 11
  },
  {
   "metadata": {
    "ExecuteTime": {
     "end_time": "2025-02-20T00:39:46.027551Z",
     "start_time": "2025-02-20T00:39:46.023952Z"
    }
   },
   "cell_type": "code",
   "source": [
    "find_li = bsObj.find('li')\n",
    "\n",
    "print(find_li)"
   ],
   "id": "541c6e7f681bb2d0",
   "outputs": [
    {
     "name": "stdout",
     "output_type": "stream",
     "text": [
      "<li> 한빛출판네트워크 </li>\n"
     ]
    }
   ],
   "execution_count": 12
  },
  {
   "metadata": {
    "ExecuteTime": {
     "end_time": "2025-02-20T00:40:20.358394Z",
     "start_time": "2025-02-20T00:40:20.355905Z"
    }
   },
   "cell_type": "code",
   "source": [
    "find_all_li = bsObj.find_all('li')\n",
    "\n",
    "print(find_all_li)"
   ],
   "id": "16b798e040df046c",
   "outputs": [
    {
     "name": "stdout",
     "output_type": "stream",
     "text": [
      "[<li> 한빛출판네트워크 </li>, <li> 비기너 </li>, <li> 데이터 분석 </li>]\n"
     ]
    }
   ],
   "execution_count": 13
  }
 ],
 "metadata": {
  "kernelspec": {
   "display_name": "Python 3",
   "language": "python",
   "name": "python3"
  },
  "language_info": {
   "codemirror_mode": {
    "name": "ipython",
    "version": 2
   },
   "file_extension": ".py",
   "mimetype": "text/x-python",
   "name": "python",
   "nbconvert_exporter": "python",
   "pygments_lexer": "ipython2",
   "version": "2.7.6"
  }
 },
 "nbformat": 4,
 "nbformat_minor": 5
}
